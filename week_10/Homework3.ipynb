{
  "cells": [
    {
      "cell_type": "markdown",
      "id": "e134c545",
      "metadata": {
        "id": "e134c545"
      },
      "source": [
        "# Homework 3 PyMongo queries\n",
        "Name:\n",
        "\n",
        "Semester: "
      ]
    },
    {
      "cell_type": "markdown",
      "id": "74cb33bf",
      "metadata": {
        "id": "74cb33bf"
      },
      "source": [
        "##### 1. Install pymongo"
      ]
    },
    {
      "cell_type": "code",
      "execution_count": null,
      "id": "9ce79908",
      "metadata": {
        "id": "9ce79908",
        "outputId": "dfdfd784-1017-4fba-8654-7b33098818ee"
      },
      "outputs": [
        {
          "name": "stdout",
          "output_type": "stream",
          "text": [
            "Requirement already satisfied: pymongo in /Users/ameyadalvi/opt/anaconda3/lib/python3.8/site-packages (4.1.1)\r\n"
          ]
        }
      ],
      "source": [
        "!pip install pymongo"
      ]
    },
    {
      "cell_type": "markdown",
      "id": "7f565314",
      "metadata": {
        "id": "7f565314"
      },
      "source": [
        "##### 2. Import pymongo and connect to your database on atlas using the connection string"
      ]
    },
    {
      "cell_type": "code",
      "execution_count": null,
      "id": "c80f5bc8",
      "metadata": {
        "id": "c80f5bc8"
      },
      "outputs": [],
      "source": [
        "from pymongo import MongoClient\n",
        "from pprint import pprint\n",
        "from bson import json_util\n",
        "\n",
        "# set up a connection to the MongoDB cluster\n",
        "client = MongoClient(\"mongodb+srv://<your-username>:<your-password>@cluster0.sx40j4t.mongodb.net/?retryWrites=true&w=majority\")\n",
        "\n",
        "# access a specific database in the cluster\n",
        "db = client.pokemon_db\n",
        "\n",
        "# access a specific collection in the database\n",
        "collection = db[\"pokemons\"]"
      ]
    },
    {
      "cell_type": "markdown",
      "id": "35e663d9",
      "metadata": {
        "id": "35e663d9"
      },
      "source": [
        "##### 3. Check server status"
      ]
    },
    {
      "cell_type": "code",
      "execution_count": null,
      "id": "68e817ea",
      "metadata": {
        "id": "68e817ea"
      },
      "outputs": [],
      "source": [
        "serverStatusResult=db.command(\"serverStatus\")"
      ]
    },
    {
      "cell_type": "code",
      "execution_count": null,
      "id": "3a5c6334",
      "metadata": {
        "id": "3a5c6334"
      },
      "outputs": [],
      "source": [
        "serverStatusResult"
      ]
    },
    {
      "cell_type": "markdown",
      "id": "6553fa60",
      "metadata": {
        "id": "6553fa60"
      },
      "source": [
        "##### 4. Check the list of collections present in the pokemon_db"
      ]
    },
    {
      "cell_type": "code",
      "execution_count": null,
      "id": "2ba357e3",
      "metadata": {
        "id": "2ba357e3",
        "outputId": "9996764c-be83-43ca-ba62-aeba27a8f4fb"
      },
      "outputs": [
        {
          "name": "stdout",
          "output_type": "stream",
          "text": [
            "['pokemons']\n"
          ]
        }
      ],
      "source": [
        "db = client.pokemon_db\n",
        "print(db.list_collection_names())"
      ]
    },
    {
      "cell_type": "markdown",
      "id": "73ec4f00",
      "metadata": {
        "id": "73ec4f00"
      },
      "source": [
        "> If you got till here without any errors, that means you have been able to complete the whole database and cluster creation and then finally connecting to your database using MongoClient. \n",
        "> You have just earned **15pts**"
      ]
    },
    {
      "cell_type": "markdown",
      "id": "c2dc1af8",
      "metadata": {
        "id": "c2dc1af8"
      },
      "source": [
        "##### 5.1 Sample query 1 - Find data about Bulbasaur and Ivysaur\n",
        "\n",
        "Find out all the details about Bulbasaur and Ivysaur"
      ]
    },
    {
      "cell_type": "code",
      "execution_count": null,
      "id": "17bef81b",
      "metadata": {
        "id": "17bef81b"
      },
      "outputs": [],
      "source": [
        "result = db.pokemons.find({'$or':[{'name': 'Bulbasaur'}, {'name':'Ivysaur'}]}, {\"_id\": 0, \"id\": 0})"
      ]
    },
    {
      "cell_type": "code",
      "execution_count": null,
      "id": "c03c63f8",
      "metadata": {
        "id": "c03c63f8",
        "outputId": "9ca225d2-68af-440a-be59-1b76629829aa"
      },
      "outputs": [
        {
          "name": "stdout",
          "output_type": "stream",
          "text": [
            "[\n",
            "  {\n",
            "    \"name\": \"Bulbasaur\",\n",
            "    \"type\": [\n",
            "      \"Grass\",\n",
            "      \"Poison\"\n",
            "    ],\n",
            "    \"hp\": 45,\n",
            "    \"attack\": 49,\n",
            "    \"defense\": 49,\n",
            "    \"special_attack\": 65,\n",
            "    \"special_defense\": 65,\n",
            "    \"speed\": 45\n",
            "  },\n",
            "  {\n",
            "    \"name\": \"Ivysaur\",\n",
            "    \"type\": [\n",
            "      \"Grass\",\n",
            "      \"Poison\"\n",
            "    ],\n",
            "    \"hp\": 60,\n",
            "    \"attack\": 62,\n",
            "    \"defense\": 63,\n",
            "    \"special_attack\": 80,\n",
            "    \"special_defense\": 80,\n",
            "    \"speed\": 60\n",
            "  }\n",
            "]\n"
          ]
        }
      ],
      "source": [
        "print(json_util.dumps(result, indent=2))"
      ]
    },
    {
      "cell_type": "markdown",
      "id": "3744a909",
      "metadata": {
        "id": "3744a909"
      },
      "source": [
        "##### 5.2 Sample query 2 - Find all pokemons with type 'Grass' and 'Poison'\n",
        "\n",
        "Make sure you only fetch the names of the pokemons\n",
        "\n",
        "Expected output: \n",
        "\n",
        "[{\"name\": \"Bulbasaur\"}, {\"name\": \"Ivysaur\"}, {\"name\": \"Venusaur\"}, {\"name\": \"Oddish\"}, {\"name\": \"Gloom\"}, {\"name\": \"Vileplume\"}, {\"name\": \"Bellsprout\"}, {\"name\": \"Weepinbell\"}, {\"name\": \"Victreebel\"}, {\"name\": \"Roselia\"}, {\"name\": \"Budew\"}, {\"name\": \"Roserade\"}, {\"name\": \"Foongus\"}, {\"name\": \"Amoonguss\"}]"
      ]
    },
    {
      "cell_type": "code",
      "execution_count": null,
      "id": "ff4f47d2",
      "metadata": {
        "id": "ff4f47d2"
      },
      "outputs": [],
      "source": [
        "result = db.pokemons.find({'type': {\"$all\": ['Grass', 'Poison']}}, {'name': 1, '_id': 0})"
      ]
    },
    {
      "cell_type": "code",
      "execution_count": null,
      "id": "c97496d4",
      "metadata": {
        "id": "c97496d4"
      },
      "outputs": [],
      "source": [
        "poke = json_util.dumps(result)"
      ]
    },
    {
      "cell_type": "code",
      "execution_count": null,
      "id": "a0392494",
      "metadata": {
        "id": "a0392494",
        "outputId": "4924a0cb-bb5c-4d70-acc2-b30f366bc357"
      },
      "outputs": [
        {
          "name": "stdout",
          "output_type": "stream",
          "text": [
            "[{\"name\": \"Bulbasaur\"}, {\"name\": \"Ivysaur\"}, {\"name\": \"Venusaur\"}, {\"name\": \"Oddish\"}, {\"name\": \"Gloom\"}, {\"name\": \"Vileplume\"}, {\"name\": \"Bellsprout\"}, {\"name\": \"Weepinbell\"}, {\"name\": \"Victreebel\"}, {\"name\": \"Roselia\"}, {\"name\": \"Budew\"}, {\"name\": \"Roserade\"}, {\"name\": \"Foongus\"}, {\"name\": \"Amoonguss\"}]\n"
          ]
        }
      ],
      "source": [
        "print(poke)"
      ]
    },
    {
      "cell_type": "markdown",
      "source": [
        "## Homework starts from here"
      ],
      "metadata": {
        "id": "hcIPOx1wkM5I"
      },
      "id": "hcIPOx1wkM5I"
    },
    {
      "cell_type": "markdown",
      "id": "bf15a1fb",
      "metadata": {
        "id": "bf15a1fb"
      },
      "source": [
        "### Query 1  - 10pts\n",
        "\n",
        "#### Find the Pokemon with the second highest \"special attack\":\n",
        "\n",
        "Expected answer: \n",
        "\n",
        "{\n",
        "  \"id\": 150,\n",
        "  \"name\": \"Mewtwo\",\n",
        "  \"type\": [\n",
        "    \"Psychic\"\n",
        "  ],\n",
        "  \"hp\": 106,\n",
        "  \"attack\": 110,\n",
        "  \"defense\": 90,\n",
        "  \"special_attack\": 154,\n",
        "  \"special_defense\": 90,\n",
        "  \"speed\": 130\n",
        "}"
      ]
    },
    {
      "cell_type": "markdown",
      "id": "310a6d48",
      "metadata": {
        "id": "310a6d48"
      },
      "source": [
        "#### Your answer below -"
      ]
    },
    {
      "cell_type": "code",
      "execution_count": null,
      "id": "9686911f",
      "metadata": {
        "id": "9686911f"
      },
      "outputs": [],
      "source": [
        "result = #your query here"
      ]
    },
    {
      "cell_type": "code",
      "execution_count": null,
      "id": "12de7918",
      "metadata": {
        "id": "12de7918"
      },
      "outputs": [],
      "source": [
        "print(json_util.dumps(result, indent=2))"
      ]
    },
    {
      "cell_type": "markdown",
      "id": "455e8e22",
      "metadata": {
        "id": "455e8e22"
      },
      "source": [
        "### Query 2  - 15pts\n",
        "\n",
        "#### Find the top 5 Pokemon with the highest total power, along with their types:\n",
        "\n",
        "<br>\n",
        "\n",
        "\n",
        "<b><i>What is total power of a pokemon?</i></b>\n",
        "\n",
        "    Total power is the summation of the pokemon's attack power, defense power, special attack power, special defense power plus it's speed.\n",
        "\n",
        "Create a new attribute \"total_power\" using the above description of total power and add the new attribute to the set of existing fields.\n",
        "\n",
        "As we need top 5 pokemons, you need to sort them by total power as well.\n",
        "\n",
        "**Hints:**\n",
        "Some mongodb specific fields that you might need for this query ->\n",
        "\n",
        "\"addFields\"\n",
        "\"sort\"\n",
        "\"limit\"\n",
        "\"project\"\n",
        "\n",
        "Google them, see how they work in an aggregate query. You have previously done things similar to this previously in one of our Mongodb labs, refer that as well.\n",
        "\n",
        "\n",
        "**Expected output:**\n",
        "\n",
        "[\n",
        "  {\n",
        "    \"name\": \"Arceus\",\n",
        "    \"total_power\": 600\n",
        "  },\n",
        "  {\n",
        "    \"name\": \"Palkia\",\n",
        "    \"total_power\": 590\n",
        "  },\n",
        "  {\n",
        "    \"name\": \"Zekrom\",\n",
        "    \"total_power\": 580\n",
        "  },\n",
        "  {\n",
        "    \"name\": \"Reshiram\",\n",
        "    \"total_power\": 580\n",
        "  },\n",
        "  {\n",
        "    \"name\": \"Dialga\",\n",
        "    \"total_power\": 580\n",
        "  }\n",
        "]\n"
      ]
    },
    {
      "cell_type": "markdown",
      "id": "9fe5b825",
      "metadata": {
        "id": "9fe5b825"
      },
      "source": [
        "#### Your answer below -"
      ]
    },
    {
      "cell_type": "code",
      "execution_count": null,
      "id": "82548bc4",
      "metadata": {
        "id": "82548bc4"
      },
      "outputs": [],
      "source": [
        "result = #your query here"
      ]
    },
    {
      "cell_type": "code",
      "execution_count": null,
      "id": "bb028245",
      "metadata": {
        "id": "bb028245"
      },
      "outputs": [],
      "source": [
        "print(json_util.dumps(result, indent=2))"
      ]
    },
    {
      "cell_type": "markdown",
      "id": "cad378cc",
      "metadata": {
        "id": "cad378cc"
      },
      "source": [
        "### Query 3  - 15pts\n",
        "\n",
        "#### Find the average HP of each type of Pokemon, sorted by the average HP in descending order:\n",
        "\n",
        "<br>\n",
        "\n",
        "**Hints:**\n",
        "Checkout \"unwind\" and \"group\" in mongodb\n",
        "\n",
        "Expected Output:\n",
        "\n",
        "\n",
        "[\n",
        "  {\n",
        "    \"_id\": \"Dragon\",\n",
        "    \"avg_hp\": 79.4\n",
        "  },\n",
        "  {\n",
        "    \"_id\": \"Ice\",\n",
        "    \"avg_hp\": 77.20588235294117\n",
        "  },\n",
        "  {\n",
        "    \"_id\": \"Normal\",\n",
        "    \"avg_hp\": 76.05504587155963\n",
        "  },\n",
        "  {\n",
        "    \"_id\": \"Fighting\",\n",
        "    \"avg_hp\": 75.25925925925925\n",
        "  },\n",
        "  {\n",
        "    \"_id\": \"Ground\",\n",
        "    \"avg_hp\": 74.5625\n",
        "  },\n",
        "  {\n",
        "    \"_id\": \"Dark\",\n",
        "    \"avg_hp\": 73.15217391304348\n",
        "  },\n",
        "  {\n",
        "    \"_id\": \"Psychic\",\n",
        "    \"avg_hp\": 72.52439024390245\n",
        "  },\n",
        "  {\n",
        "    \"_id\": \"Flying\",\n",
        "    \"avg_hp\": 70.23469387755102\n",
        "  },\n",
        "  {\n",
        "    \"_id\": \"Water\",\n",
        "    \"avg_hp\": 68.95419847328245\n",
        "  },\n",
        "  {\n",
        "    \"_id\": \"Fire\",\n",
        "    \"avg_hp\": 68.328125\n",
        "  },\n",
        "  {\n",
        "    \"_id\": \"Steel\",\n",
        "    \"avg_hp\": 67.91836734693878\n",
        "  },\n",
        "  {\n",
        "    \"_id\": \"Rock\",\n",
        "    \"avg_hp\": 66.81666666666666\n",
        "  },\n",
        "  {\n",
        "    \"_id\": \"Fairy\",\n",
        "    \"avg_hp\": 66.7872340425532\n",
        "  },\n",
        "  {\n",
        "    \"_id\": \"Grass\",\n",
        "    \"avg_hp\": 65.38144329896907\n",
        "  },\n",
        "  {\n",
        "    \"_id\": \"Ghost\",\n",
        "    \"avg_hp\": 64.81395348837209\n",
        "  },\n",
        "  {\n",
        "    \"_id\": \"Electric\",\n",
        "    \"avg_hp\": 64.8125\n",
        "  },\n",
        "  {\n",
        "    \"_id\": \"Poison\",\n",
        "    \"avg_hp\": 62.74242424242424\n",
        "  },\n",
        "  {\n",
        "    \"_id\": \"Bug\",\n",
        "    \"avg_hp\": 56.493506493506494\n",
        "  }\n",
        "]"
      ]
    },
    {
      "cell_type": "markdown",
      "id": "42df15b0",
      "metadata": {
        "id": "42df15b0"
      },
      "source": [
        "#### Your answer below -"
      ]
    },
    {
      "cell_type": "code",
      "execution_count": null,
      "id": "4ab0eed1",
      "metadata": {
        "id": "4ab0eed1"
      },
      "outputs": [],
      "source": [
        "result = #your query here"
      ]
    },
    {
      "cell_type": "code",
      "execution_count": null,
      "id": "6d7b76a2",
      "metadata": {
        "id": "6d7b76a2"
      },
      "outputs": [],
      "source": [
        "print(json_util.dumps(result, indent=2))"
      ]
    },
    {
      "cell_type": "markdown",
      "id": "f04ef974",
      "metadata": {
        "id": "f04ef974"
      },
      "source": [
        "### Query 4  - 10pts\n",
        "\n",
        "#### Find the average attack power and special attack power of each type of Pokemon, sorted by the average special attack power in descending order:\n",
        "\n",
        "<br>\n",
        "\n",
        "**Hints:**\n",
        "Checkout \"unwind\",\"group\" and \"avg\" in mongodb\n",
        "\n",
        "Expected Output:\n",
        "\n",
        "[\n",
        "  {\n",
        "    \"_id\": \"Fire\",\n",
        "    \"avg_attack\": 80.5,\n",
        "    \"avg_special_attack\": 87.578125\n",
        "  },\n",
        "  {\n",
        "    \"_id\": \"Psychic\",\n",
        "    \"avg_attack\": 66.21951219512195,\n",
        "    \"avg_special_attack\": 86.98780487804878\n",
        "  },\n",
        "  {\n",
        "    \"_id\": \"Dragon\",\n",
        "    \"avg_attack\": 94.66666666666667,\n",
        "    \"avg_special_attack\": 85.6\n",
        "  },\n",
        "  {\n",
        "    \"_id\": \"Electric\",\n",
        "    \"avg_attack\": 71.70833333333333,\n",
        "    \"avg_special_attack\": 85.16666666666667\n",
        "  },\n",
        "  {\n",
        "    \"_id\": \"Ghost\",\n",
        "    \"avg_attack\": 76.95348837209302,\n",
        "    \"avg_special_attack\": 79.62790697674419\n",
        "  },\n",
        "  {\n",
        "    \"_id\": \"Fairy\",\n",
        "    \"avg_attack\": 60.40425531914894,\n",
        "    \"avg_special_attack\": 76.34042553191489\n",
        "  },\n",
        "  {\n",
        "    \"_id\": \"Ice\",\n",
        "    \"avg_attack\": 78.32352941176471,\n",
        "    \"avg_special_attack\": 75.67647058823529\n",
        "  },\n",
        "  {\n",
        "    \"_id\": \"Dark\",\n",
        "    \"avg_attack\": 91.47826086956522,\n",
        "    \"avg_special_attack\": 72.65217391304348\n",
        "  },\n",
        "  {\n",
        "    \"_id\": \"Flying\",\n",
        "    \"avg_attack\": 76.04081632653062,\n",
        "    \"avg_special_attack\": 71.36734693877551\n",
        "  },\n",
        "  {\n",
        "    \"_id\": \"Steel\",\n",
        "    \"avg_attack\": 91.06122448979592,\n",
        "    \"avg_special_attack\": 70.83673469387755\n",
        "  },\n",
        "  {\n",
        "    \"_id\": \"Grass\",\n",
        "    \"avg_attack\": 73.29896907216495,\n",
        "    \"avg_special_attack\": 70.65979381443299\n",
        "  },\n",
        "  {\n",
        "    \"_id\": \"Water\",\n",
        "    \"avg_attack\": 70.38167938931298,\n",
        "    \"avg_special_attack\": 70.58778625954199\n",
        "  },\n",
        "  {\n",
        "    \"_id\": \"Poison\",\n",
        "    \"avg_attack\": 68.28787878787878,\n",
        "    \"avg_special_attack\": 68.28787878787878\n",
        "  },\n",
        "  {\n",
        "    \"_id\": \"Fighting\",\n",
        "    \"avg_attack\": 99.74074074074075,\n",
        "    \"avg_special_attack\": 62.351851851851855\n",
        "  },\n",
        "  {\n",
        "    \"_id\": \"Rock\",\n",
        "    \"avg_attack\": 87.28333333333333,\n",
        "    \"avg_special_attack\": 58.55\n",
        "  },\n",
        "  {\n",
        "    \"_id\": \"Normal\",\n",
        "    \"avg_attack\": 73.3211009174312,\n",
        "    \"avg_special_attack\": 57.53211009174312\n",
        "  },\n",
        "  {\n",
        "    \"_id\": \"Ground\",\n",
        "    \"avg_attack\": 87.734375,\n",
        "    \"avg_special_attack\": 56.90625\n",
        "  },\n",
        "  {\n",
        "    \"_id\": \"Bug\",\n",
        "    \"avg_attack\": 68.16883116883118,\n",
        "    \"avg_special_attack\": 56.22077922077922\n",
        "  }\n",
        "]\n",
        "\n",
        "\n"
      ]
    },
    {
      "cell_type": "code",
      "execution_count": null,
      "id": "3f55c849",
      "metadata": {
        "id": "3f55c849"
      },
      "outputs": [],
      "source": [
        "result = #your query here"
      ]
    },
    {
      "cell_type": "code",
      "execution_count": null,
      "id": "a3d33714",
      "metadata": {
        "id": "a3d33714"
      },
      "outputs": [],
      "source": [
        "print(json_util.dumps(result, indent=2))"
      ]
    },
    {
      "cell_type": "markdown",
      "id": "ebd51e84",
      "metadata": {
        "id": "ebd51e84"
      },
      "source": [
        "### Query 5  - 10pts\n",
        "\n",
        "#### Find the types of Pokemon that are weak against a certain type (i.e. have a type in common with the given type, but are not that type themselves):\n",
        "\n",
        "<br>\n",
        "\n",
        "So if you input the type_to_find as \"Fire\", it should return all other types except Fire.\n",
        "\n",
        "\n",
        "**Hints:**\n",
        "Checkout \"match\", \"project, \"in\", \"ne\", \"group\" in mongodb\n",
        "\n",
        "Example input: \"Water\"\n",
        "\n",
        "Expected Output:\n",
        "\n",
        "\n",
        "[\n",
        "  {\n",
        "    \"_id\": \"Dark\"\n",
        "  },\n",
        "  {\n",
        "    \"_id\": \"Flying\"\n",
        "  },\n",
        "  {\n",
        "    \"_id\": \"Fire\"\n",
        "  },\n",
        "  {\n",
        "    \"_id\": \"Ice\"\n",
        "  },\n",
        "  {\n",
        "    \"_id\": \"Fighting\"\n",
        "  },\n",
        "  {\n",
        "    \"_id\": \"Poison\"\n",
        "  },\n",
        "  {\n",
        "    \"_id\": \"Electric\"\n",
        "  },\n",
        "  {\n",
        "    \"_id\": \"Rock\"\n",
        "  },\n",
        "  {\n",
        "    \"_id\": \"Psychic\"\n",
        "  },\n",
        "  {\n",
        "    \"_id\": \"Bug\"\n",
        "  },\n",
        "  {\n",
        "    \"_id\": \"Fairy\"\n",
        "  },\n",
        "  {\n",
        "    \"_id\": \"Grass\"\n",
        "  },\n",
        "  {\n",
        "    \"_id\": \"Dragon\"\n",
        "  },\n",
        "  {\n",
        "    \"_id\": \"Ground\"\n",
        "  },\n",
        "  {\n",
        "    \"_id\": \"Normal\"\n",
        "  },\n",
        "  {\n",
        "    \"_id\": \"Steel\"\n",
        "  },\n",
        "  {\n",
        "    \"_id\": \"Ghost\"\n",
        "  }\n",
        "]\n"
      ]
    },
    {
      "cell_type": "code",
      "execution_count": null,
      "id": "341fdc6a",
      "metadata": {
        "id": "341fdc6a"
      },
      "outputs": [],
      "source": [
        "type_to_find = 'Water'\n",
        "result = #your query here"
      ]
    },
    {
      "cell_type": "code",
      "execution_count": null,
      "id": "b7ab5597",
      "metadata": {
        "id": "b7ab5597"
      },
      "outputs": [],
      "source": [
        "print(json_util.dumps(result, indent=2))"
      ]
    },
    {
      "cell_type": "markdown",
      "id": "fc4ef69a",
      "metadata": {
        "id": "fc4ef69a"
      },
      "source": [
        "### Query 6  - 10pts\n",
        "\n",
        "####  Find all the pokemons that would overpower a given fire type pokemon based on their types:\n",
        "\n",
        "<br>\n",
        "\n",
        "So for example, A Fire type pokemon is generally weak against these types: Water, Rock and Ground.\n",
        "\n",
        "Charizard is a fire type pokemon. Your task is to printout all the pokemons that Charizard is weak against.\n",
        "\n",
        "Example input: \"Charizard\"\n",
        "\n",
        "Expected Output:\n",
        "\n",
        "[\n",
        "  {\n",
        "    \"name\": \"Squirtle\",\n",
        "    \"type\": [\n",
        "      \"Water\"\n",
        "    ]\n",
        "  },\n",
        "  {\n",
        "    \"name\": \"Wartortle\",\n",
        "    \"type\": [\n",
        "      \"Water\"\n",
        "    ]\n",
        "  },\n",
        "  {\n",
        "    \"name\": \"Blastoise\",\n",
        "    \"type\": [\n",
        "      \"Water\"\n",
        "    ]\n",
        "  },\n",
        "  \n",
        "  ......\n",
        "  \n",
        "  ......\n",
        "  \n",
        "  {\n",
        "    \"name\": \"Nihilego\",\n",
        "    \"type\": [\n",
        "      \"Rock\",\n",
        "      \"Poison\"\n",
        "    ]\n",
        "  },\n",
        "  {\n",
        "    \"name\": \"Stakataka\",\n",
        "    \"type\": [\n",
        "      \"Rock\",\n",
        "      \"Steel\"\n",
        "    ]\n",
        "  }\n",
        "]\n",
        "  "
      ]
    },
    {
      "cell_type": "code",
      "execution_count": null,
      "id": "4867d0d3",
      "metadata": {
        "id": "4867d0d3"
      },
      "outputs": [],
      "source": [
        "fire_pokemon_name = \"Charizard\"\n",
        "\n",
        "overpower_pokemons = #your query here"
      ]
    },
    {
      "cell_type": "code",
      "execution_count": null,
      "id": "a11ed2d0",
      "metadata": {
        "id": "a11ed2d0"
      },
      "outputs": [],
      "source": [
        "print(json_util.dumps(overpower_pokemons, indent=2))"
      ]
    }
  ],
  "metadata": {
    "kernelspec": {
      "display_name": "Python 3",
      "language": "python",
      "name": "python3"
    },
    "language_info": {
      "codemirror_mode": {
        "name": "ipython",
        "version": 3
      },
      "file_extension": ".py",
      "mimetype": "text/x-python",
      "name": "python",
      "nbconvert_exporter": "python",
      "pygments_lexer": "ipython3",
      "version": "3.8.8"
    },
    "colab": {
      "provenance": [],
      "toc_visible": true
    }
  },
  "nbformat": 4,
  "nbformat_minor": 5
}