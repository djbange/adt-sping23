{
 "cells": [
  {
   "cell_type": "code",
   "execution_count": 1,
   "metadata": {},
   "outputs": [
    {
     "name": "stdout",
     "output_type": "stream",
     "text": [
      "Collecting mysql-connector-python\n",
      "  Downloading mysql_connector_python-8.0.32-cp39-cp39-win_amd64.whl (7.9 MB)\n",
      "     ---------------------------------------- 7.9/7.9 MB 22.9 MB/s eta 0:00:00\n",
      "Collecting protobuf<=3.20.3,>=3.11.0\n",
      "  Downloading protobuf-3.20.3-cp39-cp39-win_amd64.whl (904 kB)\n",
      "     ------------------------------------- 904.2/904.2 KB 55.9 MB/s eta 0:00:00\n",
      "Installing collected packages: protobuf, mysql-connector-python\n",
      "Successfully installed mysql-connector-python-8.0.32 protobuf-3.20.3\n"
     ]
    },
    {
     "name": "stderr",
     "output_type": "stream",
     "text": [
      "WARNING: You are using pip version 22.0.4; however, version 22.3.1 is available.\n",
      "You should consider upgrading via the 'C:\\Users\\djban\\AppData\\Local\\Microsoft\\WindowsApps\\PythonSoftwareFoundation.Python.3.9_qbz5n2kfra8p0\\python.exe -m pip install --upgrade pip' command.\n"
     ]
    }
   ],
   "source": [
    "!pip install mysql-connector-python"
   ]
  },
  {
   "cell_type": "code",
   "execution_count": 4,
   "metadata": {},
   "outputs": [],
   "source": [
    "import mysql.connector\n",
    "conn = mysql.connector.connect(\n",
    "    host=\"localhost\",\n",
    "    database=\"medical_data\",\n",
    "    user=\"root\",\n",
    "    password=\"root\",\n",
    "    port=\"3306\"\n",
    ")"
   ]
  },
  {
   "cell_type": "code",
   "execution_count": 5,
   "metadata": {},
   "outputs": [],
   "source": [
    "cur = conn.cursor(dictionary=True)"
   ]
  },
  {
   "attachments": {},
   "cell_type": "markdown",
   "metadata": {},
   "source": [
    "Check doctor's data"
   ]
  },
  {
   "cell_type": "code",
   "execution_count": 6,
   "metadata": {},
   "outputs": [
    {
     "name": "stdout",
     "output_type": "stream",
     "text": [
      "[{'doctor_id': 1, 'name': 'Flora Martinez', 'gender': 'Female', 'insurance': 'Yes', 'new_patients': 'Yes', 'speciality_one': 'Diabetes', 'speciality_two': 'Cholesterol', 'speciality_three': 'immunology', 'license': 'MD', 'phone': '8495776489'}, {'doctor_id': 2, 'name': 'Andy James', 'gender': 'Male', 'insurance': 'Yes', 'new_patients': 'No', 'speciality_one': 'Hypertension', 'speciality_two': 'Diabetes', 'speciality_three': 'PTSD', 'license': 'PhD', 'phone': '2340894766'}, {'doctor_id': 3, 'name': 'Hannah Myers', 'gender': 'Female', 'insurance': 'No', 'new_patients': 'Yes', 'speciality_one': 'Diabetes', 'speciality_two': 'Hypertension', 'speciality_three': 'immunology', 'license': 'MD', 'phone': '9907846574'}, {'doctor_id': 4, 'name': 'Jane Huang', 'gender': 'Female', 'insurance': 'Yes', 'new_patients': 'Yes', 'speciality_one': 'Dermatology', 'speciality_two': 'Hypertension', 'speciality_three': 'immunology', 'license': 'MD', 'phone': '4507856797'}, {'doctor_id': 5, 'name': 'April Adams', 'gender': 'Female', 'insurance': 'No', 'new_patients': 'Yes', 'speciality_one': 'OCD', 'speciality_two': 'Hypertension', 'speciality_three': 'PTSD', 'license': 'MFT', 'phone': '4507856797'}]\n"
     ]
    }
   ],
   "source": [
    "cur.execute('select * from doctors limit 5;')\n",
    "data = cur.fetchall()\n",
    "print(data)"
   ]
  },
  {
   "attachments": {},
   "cell_type": "markdown",
   "metadata": {},
   "source": [
    "Check hospital data"
   ]
  },
  {
   "cell_type": "code",
   "execution_count": 7,
   "metadata": {},
   "outputs": [
    {
     "name": "stdout",
     "output_type": "stream",
     "text": [
      "[{'hospital_name': 'Van Holsen Community Hospital', 'state': 'CA', 'city': 'San Francisco', 'doctor': 'Flora Martinez'}, {'hospital_name': 'Clear Water Services', 'state': 'CA', 'city': 'San Diego', 'doctor': 'Andy James'}, {'hospital_name': 'Imagery Health', 'state': 'CA', 'city': 'Sacramento', 'doctor': 'Hannah Myers'}, {'hospital_name': 'Blue Cross Clinic', 'state': 'CA', 'city': 'Los Angeles', 'doctor': 'Jane Huang'}, {'hospital_name': 'Blue Cross Clinic', 'state': 'CA', 'city': 'Los Angeles', 'doctor': 'April Adams'}]\n"
     ]
    }
   ],
   "source": [
    "cur.execute('select * from hospitals limit 5;')\n",
    "data = cur.fetchall()\n",
    "print(data)"
   ]
  },
  {
   "attachments": {},
   "cell_type": "markdown",
   "metadata": {},
   "source": [
    "* Tables can be joined on doctor's name (not sure how accurate that would be)"
   ]
  },
  {
   "cell_type": "code",
   "execution_count": 8,
   "metadata": {},
   "outputs": [
    {
     "name": "stdout",
     "output_type": "stream",
     "text": [
      "[{'gender': 'Female', 'count': 13}, {'gender': 'Male', 'count': 7}]\n"
     ]
    }
   ],
   "source": [
    "# check doctors by gender\n",
    "cur.execute('select gender, count(1) as count from doctors group by gender order by count desc limit 5;')\n",
    "data = cur.fetchall()\n",
    "print(data)"
   ]
  },
  {
   "cell_type": "code",
   "execution_count": 9,
   "metadata": {},
   "outputs": [
    {
     "name": "stdout",
     "output_type": "stream",
     "text": [
      "[{'gender': 'Female', 'license': 'MD', 'count': 8}, {'gender': 'Male', 'license': 'PhD', 'count': 4}, {'gender': 'Female', 'license': 'MFT', 'count': 4}, {'gender': 'Male', 'license': 'MD', 'count': 3}, {'gender': 'Female', 'license': 'PhD', 'count': 1}]\n"
     ]
    }
   ],
   "source": [
    "# check doctors by gender and license\n",
    "cur.execute('select gender, license, count(1) as count from doctors group by gender, license order by count desc limit 5;')\n",
    "data = cur.fetchall()\n",
    "print(data)"
   ]
  },
  {
   "cell_type": "code",
   "execution_count": 10,
   "metadata": {},
   "outputs": [
    {
     "name": "stdout",
     "output_type": "stream",
     "text": [
      "[{'insurance': 'Yes', 'count': 14}, {'insurance': 'No', 'count': 6}]\n"
     ]
    }
   ],
   "source": [
    "# check doctors with insurance\n",
    "cur.execute('select insurance, count(1) as count from doctors group by insurance order by count desc limit 5;')\n",
    "data = cur.fetchall()\n",
    "print(data)"
   ]
  },
  {
   "cell_type": "code",
   "execution_count": 11,
   "metadata": {},
   "outputs": [
    {
     "name": "stdout",
     "output_type": "stream",
     "text": [
      "[{'speciality_one': 'Hypertension', 'count': 4}, {'speciality_one': 'Diabetes', 'count': 3}, {'speciality_one': 'Dermatology', 'count': 3}, {'speciality_one': 'OCD', 'count': 2}, {'speciality_one': 'ADHD', 'count': 2}]\n"
     ]
    }
   ],
   "source": [
    "# check doctors speciality\n",
    "cur.execute('select speciality_one, count(1) as count from doctors group by speciality_one order by count desc limit 5;')\n",
    "data = cur.fetchall()\n",
    "print(data)"
   ]
  },
  {
   "cell_type": "code",
   "execution_count": 12,
   "metadata": {},
   "outputs": [
    {
     "name": "stdout",
     "output_type": "stream",
     "text": [
      "[{'speciality_two': 'Hypertension', 'count': 5}, {'speciality_two': 'immunology', 'count': 4}, {'speciality_two': 'Dermatology', 'count': 3}, {'speciality_two': 'Diabetes', 'count': 2}, {'speciality_two': 'Allergy', 'count': 2}]\n"
     ]
    }
   ],
   "source": [
    "# check doctors 2nd speciality\n",
    "cur.execute('select speciality_two, count(1) as count from doctors group by speciality_two order by count desc limit 5;')\n",
    "data = cur.fetchall()\n",
    "print(data)"
   ]
  },
  {
   "cell_type": "code",
   "execution_count": 13,
   "metadata": {},
   "outputs": [
    {
     "name": "stdout",
     "output_type": "stream",
     "text": [
      "[{'speciality_one': 'Hypertension', 'speciality_two': 'Allergy', 'speciality_three': 'OCD', 'count': 1}, {'speciality_one': 'PTSD', 'speciality_two': 'immunology', 'speciality_three': 'Dermatology', 'count': 1}, {'speciality_one': 'Autism', 'speciality_two': 'ADHD', 'speciality_three': 'OCD', 'count': 1}, {'speciality_one': 'Dermatology', 'speciality_two': 'Hypertension', 'speciality_three': 'immunology', 'count': 1}, {'speciality_one': 'Hypertension', 'speciality_two': 'Dermatology', 'speciality_three': 'ADHD', 'count': 1}]\n"
     ]
    }
   ],
   "source": [
    "# check doctors 2nd speciality\n",
    "cur.execute('''select speciality_one, speciality_two, speciality_three, count(1) as count from doctors\n",
    "group by 1, 2, 3 order by count desc limit 5;''')\n",
    "data = cur.fetchall()\n",
    "print(data)"
   ]
  },
  {
   "cell_type": "code",
   "execution_count": 14,
   "metadata": {},
   "outputs": [
    {
     "name": "stdout",
     "output_type": "stream",
     "text": [
      "[{'state': 'CA', 'city': 'Sacramento', 'count': 4}, {'state': 'CA', 'city': 'San Francisco', 'count': 3}, {'state': 'CA', 'city': 'San Jose', 'count': 3}, {'state': 'CA', 'city': 'Santa Barbara', 'count': 3}, {'state': 'CA', 'city': 'Los Angeles', 'count': 2}]\n"
     ]
    }
   ],
   "source": [
    "# check hospital data\n",
    "cur.execute('''select state, city, count(1) as count from hospitals group by 1,2 order by count desc limit 5;''')\n",
    "data = cur.fetchall()\n",
    "print(data)"
   ]
  },
  {
   "cell_type": "code",
   "execution_count": 15,
   "metadata": {},
   "outputs": [
    {
     "name": "stdout",
     "output_type": "stream",
     "text": [
      "[{'name': 'Flora Martinez', 'gender': 'Female', 'license': 'MD', 'state': 'CA', 'city': 'San Francisco'}, {'name': 'Andy James', 'gender': 'Male', 'license': 'PhD', 'state': 'CA', 'city': 'San Diego'}, {'name': 'Hannah Myers', 'gender': 'Female', 'license': 'MD', 'state': 'CA', 'city': 'Sacramento'}, {'name': 'Jane Huang', 'gender': 'Female', 'license': 'MD', 'state': 'CA', 'city': 'Los Angeles'}, {'name': 'April Adams', 'gender': 'Female', 'license': 'MFT', 'state': 'CA', 'city': 'Los Angeles'}]\n"
     ]
    }
   ],
   "source": [
    "# join data\n",
    "cur.execute('''select d.name, d.gender, d.license, h.state, h.city\n",
    "from doctors d left join hospitals h on lower(d.name) = lower(h.doctor) limit 5;''')\n",
    "data = cur.fetchall()\n",
    "print(data)"
   ]
  },
  {
   "cell_type": "code",
   "execution_count": 16,
   "metadata": {},
   "outputs": [
    {
     "name": "stdout",
     "output_type": "stream",
     "text": [
      "[]\n"
     ]
    }
   ],
   "source": [
    "# see if any doctors not in hospitals table\n",
    "cur.execute('''select d.name, d.gender, d.license, h.state, h.city\n",
    "from doctors d left join hospitals h on lower(d.name) = lower(h.doctor)  where  h.state is null limit 5;''')\n",
    "data = cur.fetchall()\n",
    "print(data)"
   ]
  },
  {
   "attachments": {},
   "cell_type": "markdown",
   "metadata": {},
   "source": [
    "# Visualization"
   ]
  },
  {
   "cell_type": "code",
   "execution_count": 25,
   "metadata": {},
   "outputs": [
    {
     "data": {
      "text/plain": [
       "<AxesSubplot: xlabel='city'>"
      ]
     },
     "execution_count": 25,
     "metadata": {},
     "output_type": "execute_result"
    },
    {
     "data": {
      "image/png": "[encoded data removed]",
      "text/plain": [
       "<Figure size 640x480 with 1 Axes>"
      ]
     },
     "metadata": {},
     "output_type": "display_data"
    }
   ],
   "source": [
    "import pandas as pd\n",
    "import matplotlib.pyplot as plt\n",
    "cur.execute('''select state, city, count(1) as count from hospitals group by 1,2 order by count desc;''')\n",
    "data = cur.fetchall()\n",
    "\n",
    "df = pd.DataFrame(data)\n",
    "df.columns = ['state', 'city', 'count']\n",
    "df.plot.bar(x='city', y='count')"
   ]
  },
  {
   "cell_type": "code",
   "execution_count": 27,
   "metadata": {},
   "outputs": [
    {
     "data": {
      "text/plain": [
       "<AxesSubplot: xlabel='speciality_two'>"
      ]
     },
     "execution_count": 27,
     "metadata": {},
     "output_type": "execute_result"
    },
    {
     "data": {
      "image/png": "[encoded data removed]",
      "text/plain": [
       "<Figure size 640x480 with 1 Axes>"
      ]
     },
     "metadata": {},
     "output_type": "display_data"
    }
   ],
   "source": [
    "cur.execute('''select speciality_two, count(1) as count from doctors group by speciality_two order by count desc;''')\n",
    "data = cur.fetchall()\n",
    "\n",
    "df = pd.DataFrame(data)\n",
    "df.columns = ['speciality_two', 'count']\n",
    "df.plot.bar(x='speciality_two', y='count')"
   ]
  },
  {
   "cell_type": "code",
   "execution_count": 30,
   "metadata": {},
   "outputs": [
    {
     "data": {
      "image/png": "[encoded data removed]",
      "text/plain": [
       "<Figure size 640x480 with 1 Axes>"
      ]
     },
     "metadata": {},
     "output_type": "display_data"
    }
   ],
   "source": [
    "cur.execute('''select gender, license, count(1) as count from doctors group by gender, license order by count desc;''')\n",
    "data = cur.fetchall()\n",
    "\n",
    "df = pd.DataFrame(data)\n",
    "df.columns = ['gender', 'license', 'count']\n",
    "df.pivot(index='gender', columns='license', values='count').plot(kind='bar', rot=0)\n",
    "plt.tight_layout()\n",
    "plt.show()"
   ]
  },
  {
   "cell_type": "code",
   "execution_count": null,
   "metadata": {},
   "outputs": [],
   "source": []
  }
 ],
 "metadata": {
  "kernelspec": {
   "display_name": "Python 3",
   "language": "python",
   "name": "python3"
  },
  "language_info": {
   "codemirror_mode": {
    "name": "ipython",
    "version": 3
   },
   "file_extension": ".py",
   "mimetype": "text/x-python",
   "name": "python",
   "nbconvert_exporter": "python",
   "pygments_lexer": "ipython3",
   "version": "3.9.13"
  },
  "orig_nbformat": 4,
  "vscode": {
   "interpreter": {
    "hash": "6cee7049683158fa97715ed74a425681052c9dbf641d40721d27393bc0340237"
   }
  }
 },
 "nbformat": 4,
 "nbformat_minor": 2
}
