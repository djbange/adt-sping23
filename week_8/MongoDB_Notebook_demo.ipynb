{
  "cells": [
    {
      "cell_type": "markdown",
      "metadata": {
        "id": "SNsb52E-HGe4"
      },
      "source": [
        "# Connecting to MongoDB using PyMongo\n",
        "\n",
        "## Student Name: Dipak Bange"
      ]
    },
    {
      "cell_type": "markdown",
      "metadata": {
        "id": "B5sXokIzHGe5"
      },
      "source": [
        "To connect to MongoDB and work with data using Python, we will be installing Pymongo driver."
      ]
    },
    {
      "cell_type": "markdown",
      "metadata": {
        "id": "UgTj-H3zHGe6"
      },
      "source": [
        "The easiest way to install the driver is through the pip package management system. Execute the following on a command line\n",
        "or Anaconda Prompt :\n",
        "\n",
        "Command line:    \n",
        "python -m pip install pymongo \n",
        "\n",
        "Anaconda Prompt:\n",
        "\n",
        "pip install pymongo  \n",
        "\n",
        "pip3 install 'pymongo[srv]'"
      ]
    },
    {
      "cell_type": "markdown",
      "metadata": {
        "id": "L4AV9ZKwHGe6"
      },
      "source": [
        "Once PyMongo is installed we can write our first application that will return information about the MongoDB server. In your Python development environment or from a text editor enter the following code."
      ]
    },
    {
      "cell_type": "code",
      "execution_count": 24,
      "metadata": {
        "id": "LKrxzDmVHGe6"
      },
      "outputs": [],
      "source": [
        "import warnings\n",
        "warnings.filterwarnings('ignore')"
      ]
    },
    {
      "cell_type": "code",
      "execution_count": 25,
      "metadata": {
        "id": "DG3axFHMHGe7"
      },
      "outputs": [],
      "source": [
        "import pymongo\n",
        "from pprint import pprint\n",
        "# connect to MongoDB, change the << MONGODB URL >> to reflect your own connection string\n",
        "client = pymongo.MongoClient(\"mongodb+srv://username:<pass>@cluster0.653psma.mongodb.net/?retryWrites=true&w=majority\")"
      ]
    },
    {
      "cell_type": "markdown",
      "metadata": {
        "id": "rabY03AzHGe7"
      },
      "source": [
        "### Exploring Collections and Documents"
      ]
    },
    {
      "cell_type": "markdown",
      "metadata": {
        "id": "XhadxfdHHGe7"
      },
      "source": [
        "A collection in MongoDB is a container for documents. A database is the container for collections.\n",
        "Some of the advantages of storing data in documents are dynamic & flexible schema and  the ability to store arrays can be seen from our simple Python scripts. "
      ]
    },
    {
      "cell_type": "markdown",
      "metadata": {
        "id": "xypYU9hFHGe8"
      },
      "source": [
        "##### Connecting to a specific Database in our cluster.\n"
      ]
    },
    {
      "cell_type": "code",
      "execution_count": 26,
      "metadata": {
        "id": "deIE3mylHGe8"
      },
      "outputs": [],
      "source": [
        "# alternative\n",
        "#db = client.test\n",
        "#collection = db.video # or db['video']"
      ]
    },
    {
      "cell_type": "code",
      "execution_count": 29,
      "metadata": {
        "colab": {
          "base_uri": "https://localhost:8080/",
          "height": 0
        },
        "id": "Y1YfO4UMHGe8",
        "outputId": "21eb01e6-d612-498d-9ba0-f65ce2ba11ba"
      },
      "outputs": [
        {
          "output_type": "stream",
          "name": "stdout",
          "text": [
            "{'$clusterTime': {'clusterTime': Timestamp(1677810491, 10),\n",
            "                  'signature': {'hash': b'\\xe3,\\xb9\\xe3\\xdd\\x10+$X\\xca`-'\n",
            "                                        b'+\\xcb\\xc2y\\xd8\\x1c!\\xe1',\n",
            "                                'keyId': 7164370397394108457}},\n",
            " 'asserts': {'msg': 0, 'regular': 0, 'rollovers': 0, 'user': 0, 'warning': 0},\n",
            " 'atlasVersion': {'gitVersion': '4591fd75e0047e1fc10dc2b17529b650b2798af7',\n",
            "                  'version': '20230215.0.0.1676489897'},\n",
            " 'connections': {'available': 488, 'current': 12, 'totalCreated': 63},\n",
            " 'extra_info': {'note': 'fields vary by platform', 'page_faults': 0},\n",
            " 'host': 'ac-isdtpns-shard-00-01.653psma.mongodb.net:27017',\n",
            " 'localTime': datetime.datetime(2023, 3, 3, 2, 28, 11, 102000),\n",
            " 'mem': {'bits': 64,\n",
            "         'mapped': 0,\n",
            "         'mappedWithJournal': 0,\n",
            "         'resident': 0,\n",
            "         'supported': True,\n",
            "         'virtual': 0},\n",
            " 'metrics': {'aggStageCounters': {'search': 0,\n",
            "                                  'searchBeta': 0,\n",
            "                                  'searchMeta': 0},\n",
            "             'atlas': {'connectionPool': {'totalCreated': 7582}},\n",
            "             'operatorCounters': {'match': {'regex': 0, 'text': 0}}},\n",
            " 'network': {'bytesIn': 319308644, 'bytesOut': 1740704, 'numRequests': 1285},\n",
            " 'ok': 1.0,\n",
            " 'opLatencies': {'commands': {'latency': 6660322801, 'ops': 818},\n",
            "                 'reads': {'latency': 6007626, 'ops': 8},\n",
            "                 'writes': {'latency': 901363687, 'ops': 439}},\n",
            " 'opcounters': {'command': 833,\n",
            "                'delete': 0,\n",
            "                'deprecated': {'getmore': 0, 'query': 0},\n",
            "                'getmore': 0,\n",
            "                'insert': 424065,\n",
            "                'query': 4,\n",
            "                'update': 0},\n",
            " 'opcountersRepl': {'command': 0,\n",
            "                    'delete': 0,\n",
            "                    'deprecated': {'getmore': 0, 'query': 0},\n",
            "                    'getmore': 0,\n",
            "                    'insert': 0,\n",
            "                    'query': 0,\n",
            "                    'update': 0},\n",
            " 'operationTime': Timestamp(1677810491, 10),\n",
            " 'pid': 1929,\n",
            " 'process': 'mongod',\n",
            " 'repl': {'electionId': ObjectId('7fffffff0000000000000094'),\n",
            "          'hosts': ['ac-isdtpns-shard-00-00.653psma.mongodb.net:27017',\n",
            "                    'ac-isdtpns-shard-00-01.653psma.mongodb.net:27017',\n",
            "                    'ac-isdtpns-shard-00-02.653psma.mongodb.net:27017'],\n",
            "          'isWritablePrimary': True,\n",
            "          'lastWrite': {'lastWriteDate': datetime.datetime(2023, 3, 3, 2, 28, 11),\n",
            "                        'majorityOpTime': {'t': 148,\n",
            "                                           'ts': Timestamp(1677810491, 10)},\n",
            "                        'majorityWriteDate': datetime.datetime(2023, 3, 3, 2, 28, 11),\n",
            "                        'opTime': {'t': 148, 'ts': Timestamp(1677810491, 10)}},\n",
            "          'me': 'ac-isdtpns-shard-00-01.653psma.mongodb.net:27017',\n",
            "          'primary': 'ac-isdtpns-shard-00-01.653psma.mongodb.net:27017',\n",
            "          'primaryOnlyServices': {'TenantMigrationDonorService': {'numInstances': 0,\n",
            "                                                                  'state': 'running'},\n",
            "                                  'TenantMigrationRecipientService': {'numInstances': 0,\n",
            "                                                                      'state': 'running'}},\n",
            "          'rbid': 3,\n",
            "          'secondary': False,\n",
            "          'setName': 'atlas-ar4ty8-shard-0',\n",
            "          'setVersion': 10,\n",
            "          'tags': {'nodeType': 'ELECTABLE',\n",
            "                   'provider': 'AWS',\n",
            "                   'region': 'US_EAST_1',\n",
            "                   'workloadType': 'OPERATIONAL'},\n",
            "          'topologyVersion': {'counter': 6,\n",
            "                              'processId': ObjectId('64011098c33a7edef8163748')}},\n",
            " 'storageEngine': {'backupCursorOpen': False,\n",
            "                   'dropPendingIdents': 0,\n",
            "                   'name': 'wiredTiger',\n",
            "                   'oldestRequiredTimestampForCrashRecovery': Timestamp(1677810450, 52),\n",
            "                   'persistent': True,\n",
            "                   'readOnly': False,\n",
            "                   'supportsCommittedReads': True,\n",
            "                   'supportsPendingDrops': True,\n",
            "                   'supportsResumableIndexBuilds': True,\n",
            "                   'supportsSnapshotReadConcern': True},\n",
            " 'uptime': 19107.0,\n",
            " 'uptimeEstimate': 19107,\n",
            " 'uptimeMillis': 19107005,\n",
            " 'version': '5.0.15'}\n"
          ]
        }
      ],
      "source": [
        "#connecting to database \"video\"\n",
        "db = client.video  # or client['video']\n",
        "# Issue the serverStatus command and print the results\n",
        "serverStatusResult=db.command(\"serverStatus\")\n",
        "pprint(serverStatusResult)"
      ]
    },
    {
      "cell_type": "markdown",
      "metadata": {
        "id": "jj-yukzpHGe9"
      },
      "source": [
        "##### Exploring different Collection in Database"
      ]
    },
    {
      "cell_type": "markdown",
      "metadata": {
        "id": "BeUFK2kfHGe9"
      },
      "source": [
        "With collection_names(), we get list available collections in the database."
      ]
    },
    {
      "cell_type": "code",
      "execution_count": 30,
      "metadata": {
        "colab": {
          "base_uri": "https://localhost:8080/",
          "height": 0
        },
        "id": "WTLIDeXXHGe9",
        "outputId": "3047ca2b-6bc1-4cb0-dec8-8118d363ba38"
      },
      "outputs": [
        {
          "output_type": "stream",
          "name": "stdout",
          "text": [
            "['movies']\n"
          ]
        }
      ],
      "source": [
        "with client:\n",
        "    \n",
        "    db = client.video\n",
        "    print(db.list_collection_names())"
      ]
    },
    {
      "cell_type": "markdown",
      "metadata": {
        "id": "drBEXTHEHGe-"
      },
      "source": [
        "##### Connecting to a specific Database in our cluster.\n",
        "\n",
        "We need to run this step again as pymongo auto-closes the connection after previous step\n"
      ]
    },
    {
      "cell_type": "code",
      "execution_count": null,
      "metadata": {
        "id": "8crq27D-HGe-"
      },
      "outputs": [],
      "source": [
        "# alternative\n",
        "#db = client.test\n",
        "#collection = db.video # or db['video']"
      ]
    },
    {
      "cell_type": "code",
      "execution_count": 32,
      "metadata": {
        "colab": {
          "base_uri": "https://localhost:8080/",
          "height": 0
        },
        "id": "2yesHlQ0HGe_",
        "outputId": "8737b374-6017-48e0-e82c-e24540568745"
      },
      "outputs": [
        {
          "output_type": "stream",
          "name": "stdout",
          "text": [
            "{'$clusterTime': {'clusterTime': Timestamp(1677810522, 24),\n",
            "                  'signature': {'hash': b'\\xe4\\x8f\\xc3j\\x909(v\\xceH\\xec%'\n",
            "                                        b'\\xa8N\\x9c\\xa8\\xe8S\\xf8\\xe2',\n",
            "                                'keyId': 7164370397394108457}},\n",
            " 'asserts': {'msg': 0, 'regular': 0, 'rollovers': 0, 'user': 0, 'warning': 0},\n",
            " 'atlasVersion': {'gitVersion': '4591fd75e0047e1fc10dc2b17529b650b2798af7',\n",
            "                  'version': '20230215.0.0.1676489897'},\n",
            " 'connections': {'available': 495, 'current': 5, 'totalCreated': 66},\n",
            " 'extra_info': {'note': 'fields vary by platform', 'page_faults': 0},\n",
            " 'host': 'ac-isdtpns-shard-00-01.653psma.mongodb.net:27017',\n",
            " 'localTime': datetime.datetime(2023, 3, 3, 2, 28, 42, 339000),\n",
            " 'mem': {'bits': 64,\n",
            "         'mapped': 0,\n",
            "         'mappedWithJournal': 0,\n",
            "         'resident': 0,\n",
            "         'supported': True,\n",
            "         'virtual': 0},\n",
            " 'metrics': {'aggStageCounters': {'search': 0,\n",
            "                                  'searchBeta': 0,\n",
            "                                  'searchMeta': 0},\n",
            "             'atlas': {'connectionPool': {'totalCreated': 7590}},\n",
            "             'operatorCounters': {'match': {'regex': 0, 'text': 0}}},\n",
            " 'network': {'bytesIn': 319311071, 'bytesOut': 1760036, 'numRequests': 1295},\n",
            " 'ok': 1.0,\n",
            " 'opLatencies': {'commands': {'latency': 7360983469, 'ops': 831},\n",
            "                 'reads': {'latency': 6007626, 'ops': 8},\n",
            "                 'writes': {'latency': 901363687, 'ops': 439}},\n",
            " 'opcounters': {'command': 843,\n",
            "                'delete': 0,\n",
            "                'deprecated': {'getmore': 0, 'query': 0},\n",
            "                'getmore': 0,\n",
            "                'insert': 424065,\n",
            "                'query': 4,\n",
            "                'update': 0},\n",
            " 'opcountersRepl': {'command': 0,\n",
            "                    'delete': 0,\n",
            "                    'deprecated': {'getmore': 0, 'query': 0},\n",
            "                    'getmore': 0,\n",
            "                    'insert': 0,\n",
            "                    'query': 0,\n",
            "                    'update': 0},\n",
            " 'operationTime': Timestamp(1677810522, 24),\n",
            " 'pid': 1929,\n",
            " 'process': 'mongod',\n",
            " 'repl': {'electionId': ObjectId('7fffffff0000000000000094'),\n",
            "          'hosts': ['ac-isdtpns-shard-00-00.653psma.mongodb.net:27017',\n",
            "                    'ac-isdtpns-shard-00-01.653psma.mongodb.net:27017',\n",
            "                    'ac-isdtpns-shard-00-02.653psma.mongodb.net:27017'],\n",
            "          'isWritablePrimary': True,\n",
            "          'lastWrite': {'lastWriteDate': datetime.datetime(2023, 3, 3, 2, 28, 42),\n",
            "                        'majorityOpTime': {'t': 148,\n",
            "                                           'ts': Timestamp(1677810522, 23)},\n",
            "                        'majorityWriteDate': datetime.datetime(2023, 3, 3, 2, 28, 42),\n",
            "                        'opTime': {'t': 148, 'ts': Timestamp(1677810522, 24)}},\n",
            "          'me': 'ac-isdtpns-shard-00-01.653psma.mongodb.net:27017',\n",
            "          'primary': 'ac-isdtpns-shard-00-01.653psma.mongodb.net:27017',\n",
            "          'primaryOnlyServices': {'TenantMigrationDonorService': {'numInstances': 0,\n",
            "                                                                  'state': 'running'},\n",
            "                                  'TenantMigrationRecipientService': {'numInstances': 0,\n",
            "                                                                      'state': 'running'}},\n",
            "          'rbid': 3,\n",
            "          'secondary': False,\n",
            "          'setName': 'atlas-ar4ty8-shard-0',\n",
            "          'setVersion': 10,\n",
            "          'tags': {'nodeType': 'ELECTABLE',\n",
            "                   'provider': 'AWS',\n",
            "                   'region': 'US_EAST_1',\n",
            "                   'workloadType': 'OPERATIONAL'},\n",
            "          'topologyVersion': {'counter': 6,\n",
            "                              'processId': ObjectId('64011098c33a7edef8163748')}},\n",
            " 'storageEngine': {'backupCursorOpen': False,\n",
            "                   'dropPendingIdents': 0,\n",
            "                   'name': 'wiredTiger',\n",
            "                   'oldestRequiredTimestampForCrashRecovery': Timestamp(1677810511, 75),\n",
            "                   'persistent': True,\n",
            "                   'readOnly': False,\n",
            "                   'supportsCommittedReads': True,\n",
            "                   'supportsPendingDrops': True,\n",
            "                   'supportsResumableIndexBuilds': True,\n",
            "                   'supportsSnapshotReadConcern': True},\n",
            " 'uptime': 19138.0,\n",
            " 'uptimeEstimate': 19138,\n",
            " 'uptimeMillis': 19138242,\n",
            " 'version': '5.0.15'}\n"
          ]
        }
      ],
      "source": [
        "#connecting to database \"video\"\n",
        "#insert your mongodb connection string here\n",
        "client = pymongo.MongoClient(\"mongodb+srv://username:<pass>@cluster0.653psma.mongodb.net/?retryWrites=true&w=majority\")\n",
        "\n",
        "db = client.video  # or client['video']\n",
        "# Issue the serverStatus command and print the results\n",
        "serverStatusResult=db.command(\"serverStatus\")\n",
        "pprint(serverStatusResult)"
      ]
    },
    {
      "cell_type": "markdown",
      "metadata": {
        "id": "jSIBpv8UHGe_"
      },
      "source": [
        "##### Reading Data in Sorted Order"
      ]
    },
    {
      "cell_type": "code",
      "execution_count": 35,
      "metadata": {
        "id": "j7bcErvmHGe_"
      },
      "outputs": [],
      "source": [
        "from pymongo import  DESCENDING\n",
        "for x in db.myMovies.find().sort(\"year\", DESCENDING):\n",
        "    print(x)"
      ]
    },
    {
      "cell_type": "markdown",
      "metadata": {
        "id": "pnEuxiOOHGe_"
      },
      "source": [
        "##### Creating Sample Data in Movies Collection"
      ]
    },
    {
      "cell_type": "code",
      "execution_count": 36,
      "metadata": {
        "colab": {
          "base_uri": "https://localhost:8080/",
          "height": 0
        },
        "id": "XrcBGrbYHGfA",
        "outputId": "307d3aa5-8026-4b3f-88d9-8cf8e92910c8"
      },
      "outputs": [
        {
          "output_type": "stream",
          "name": "stdout",
          "text": [
            "Created 0 of 12 as 64015b65854bb6455904b86f\n",
            "Created 1 of 12 as 64015b65854bb6455904b870\n",
            "Created 2 of 12 as 64015b65854bb6455904b871\n",
            "Created 3 of 12 as 64015b65854bb6455904b872\n",
            "Created 4 of 12 as 64015b65854bb6455904b873\n",
            "Created 5 of 12 as 64015b65854bb6455904b874\n",
            "Created 6 of 12 as 64015b65854bb6455904b875\n",
            "Created 7 of 12 as 64015b65854bb6455904b876\n",
            "Created 8 of 12 as 64015b65854bb6455904b877\n",
            "Created 9 of 12 as 64015b65854bb6455904b878\n",
            "Created 10 of 12 as 64015b65854bb6455904b879\n",
            "Created 11 of 12 as 64015b65854bb6455904b87a\n",
            "finished creating 12 movies\n"
          ]
        }
      ],
      "source": [
        "#Step 1: Create sample data\n",
        "_id = ['tt0084740','tt0084741','tt0084742','tt0084743','tt0084744','tt0084745','tt0084746','tt0084747','tt0084748','tt0084749',\n",
        "      'tt0084750','tt0084751']\n",
        "title = ['Avengers','Batman Begins','Dark Knight', 'Dark Knight Rises', \n",
        "         'Wonder Women','Iron Man','Ant Man', 'Thor','Dr Strange', 'Captain America','X- Men:First Class','Superman', 'Hulk']\n",
        "year = [2012,2012,2013,2014,2018,2012,2018,2013,2013,2012,2013,2018] #Dont go on real release dates :P\n",
        "\n",
        "for x in range(0, 12):\n",
        "    movie = {\n",
        "        'id': _id[x],\n",
        "        'title' : title[x],\n",
        "        'year' : year[x],\n",
        "        'type' : 'movies'\n",
        "    }\n",
        "    #Step 2: Insert movies object directly into MongoDB via isnert_one\n",
        "    result=db.myMovies.insert_one(movie)\n",
        "    #Step 3: Print to the console the ObjectID of the new document\n",
        "    print('Created {0} of 12 as {1}'.format(x,result.inserted_id))\n",
        "#Step 4: Tell us that you are done\n",
        "print('finished creating 12 movies')"
      ]
    },
    {
      "cell_type": "markdown",
      "metadata": {
        "id": "n5X7iOCvHGfA"
      },
      "source": [
        "##### Accessing collection myMovies"
      ]
    },
    {
      "cell_type": "markdown",
      "metadata": {
        "id": "ndpr1vNHHGfA"
      },
      "source": [
        " In MongoDB the find_one command is used to query for a single document much like select statements are used in relational databases. To use the find_one command in PyMongo we pass a Python dictionary that specifies the search criteria."
      ]
    },
    {
      "cell_type": "code",
      "execution_count": 37,
      "metadata": {
        "colab": {
          "base_uri": "https://localhost:8080/",
          "height": 0
        },
        "id": "pwculrdLHGfA",
        "outputId": "10ababcc-15e0-4f31-c480-3dc1e6149cd0"
      },
      "outputs": [
        {
          "output_type": "stream",
          "name": "stdout",
          "text": [
            "{'_id': ObjectId('64015b65854bb6455904b871'), 'id': 'tt0084742', 'title': 'Dark Knight', 'year': 2013, 'type': 'movies'}\n"
          ]
        }
      ],
      "source": [
        "result = db.myMovies.find_one({'year': 2013}) #please feel free to try different year incase you are getting a 'None'\n",
        "print(result)"
      ]
    },
    {
      "cell_type": "markdown",
      "metadata": {
        "id": "pUVJ2T41HGfA"
      },
      "source": [
        "The function \"find” will return all documents that match the search criteria. These cursors also support methods like count() which returns the number of results in the query."
      ]
    },
    {
      "cell_type": "code",
      "execution_count": 38,
      "metadata": {
        "colab": {
          "base_uri": "https://localhost:8080/",
          "height": 0
        },
        "id": "5KfH2IyWHGfB",
        "outputId": "41d57dcc-c968-4fde-f3fc-8d673d40ea84"
      },
      "outputs": [
        {
          "output_type": "stream",
          "name": "stdout",
          "text": [
            "4\n"
          ]
        }
      ],
      "source": [
        "movies_2013 = db.myMovies.count_documents({'year': 2013})\n",
        "print(movies_2013)"
      ]
    },
    {
      "cell_type": "markdown",
      "metadata": {
        "id": "7gE0QcBBHGfB"
      },
      "source": [
        "Consider the scenario where you want to sum the occurrence of each year across the entire data set. You could simply issue a single query using the MongoDB aggregation."
      ]
    },
    {
      "cell_type": "code",
      "execution_count": 39,
      "metadata": {
        "colab": {
          "base_uri": "https://localhost:8080/",
          "height": 0
        },
        "id": "b8dsRtgEHGfB",
        "outputId": "ce132eb8-fd0c-40f6-dbb5-413616fff5ff"
      },
      "outputs": [
        {
          "output_type": "stream",
          "name": "stdout",
          "text": [
            "{'_id': 2012, 'count': 4}\n",
            "{'_id': 2013, 'count': 4}\n",
            "{'_id': 2014, 'count': 1}\n",
            "{'_id': 2018, 'count': 3}\n"
          ]
        }
      ],
      "source": [
        "stargroup=db.myMovies.aggregate(\n",
        "# The Aggregation Pipeline is defined as an array of different operations\n",
        "[\n",
        "# The first stage in this pipe is to group data\n",
        "{ '$group':\n",
        "    { '_id': \"$year\",\n",
        "     \"count\" : \n",
        "                 { '$sum' :1 }\n",
        "    }\n",
        "},\n",
        "# The second stage in this pipe is to sort the data\n",
        "{\"$sort\":  { \"_id\":1}\n",
        "}\n",
        "# Close the array with the ] tag             \n",
        "] )\n",
        "# Print the result\n",
        "for group in stargroup:\n",
        "    print(group)"
      ]
    },
    {
      "cell_type": "markdown",
      "metadata": {
        "id": "jI_VECqKHGfB"
      },
      "source": [
        "### Update data "
      ]
    },
    {
      "cell_type": "markdown",
      "metadata": {
        "id": "6aez3HafHGfB"
      },
      "source": [
        "There exists functions to help you update your MongoDB data including update_one, update_many and replace_one. The update_one method will update a single document based on a query that matches a document. "
      ]
    },
    {
      "cell_type": "markdown",
      "metadata": {
        "id": "xC4pgfMJHGfB"
      },
      "source": [
        "Following code updates a document with this new “star_rating” field."
      ]
    },
    {
      "cell_type": "code",
      "execution_count": 40,
      "metadata": {
        "colab": {
          "base_uri": "https://localhost:8080/",
          "height": 0
        },
        "id": "gbJ_HViQHGfC",
        "outputId": "5b5d02dc-d916-4e6e-b5e4-15e11e5c68f2"
      },
      "outputs": [
        {
          "output_type": "stream",
          "name": "stdout",
          "text": [
            "A sample document:\n",
            "{'_id': ObjectId('64015b65854bb6455904b871'),\n",
            " 'id': 'tt0084742',\n",
            " 'title': 'Dark Knight',\n",
            " 'type': 'movies',\n",
            " 'year': 2013}\n",
            "Number of documents modified : 1\n",
            "The updated document:\n",
            "{'_id': ObjectId('64015b65854bb6455904b871'),\n",
            " 'id': 'tt0084742',\n",
            " 'star_rating': 5,\n",
            " 'title': 'Dark Knight',\n",
            " 'type': 'movies',\n",
            " 'year': 2013}\n"
          ]
        }
      ],
      "source": [
        "\n",
        "SampleRecord = db.myMovies.find_one({'year': 2013})\n",
        "print('A sample document:')\n",
        "pprint(SampleRecord)\n",
        "\n",
        "result = db.myMovies.update_one({'_id' : SampleRecord.get('_id') }, {'$inc': {'star_rating': 5}})\n",
        "print('Number of documents modified : ' + str(result.modified_count))\n",
        "\n",
        "UpdatedDocument = db.myMovies.find_one({'_id':SampleRecord.get('_id')})\n",
        "print('The updated document:')\n",
        "pprint(UpdatedDocument)"
      ]
    },
    {
      "cell_type": "markdown",
      "metadata": {
        "id": "_u4quFf9HGfC"
      },
      "source": [
        "Notice that the original document did not have the “star_rating” field and an update allowed us to easily add the field to the document. This ability to dynamically add keys without the hassle of costly Alter_Table statements is the power of MongoDB’s flexible data model. It makes rapid application development a reality.\n",
        "\n",
        "If you wanted to update all the fields of the document and keep the same ObjectID you will want to use the replace_one function. "
      ]
    },
    {
      "cell_type": "markdown",
      "metadata": {
        "id": "W7aFKU__HGfC"
      },
      "source": [
        "### Deleting documents"
      ]
    },
    {
      "cell_type": "markdown",
      "metadata": {
        "id": "qD_XdHNOHGfC"
      },
      "source": [
        " Functions such as delete_one and delete_many take a query that matches the document to delete as the first parameter."
      ]
    },
    {
      "cell_type": "code",
      "execution_count": 41,
      "metadata": {
        "colab": {
          "base_uri": "https://localhost:8080/",
          "height": 0
        },
        "id": "BfOLiRKfHGfC",
        "outputId": "f689e4c8-62da-4873-868a-2c8936dc3dd5"
      },
      "outputs": [
        {
          "output_type": "stream",
          "name": "stdout",
          "text": [
            "{'_id': ObjectId('64015b65854bb6455904b873'), 'id': 'tt0084744', 'title': 'Wonder Women', 'year': 2018, 'type': 'movies'}\n"
          ]
        }
      ],
      "source": [
        "#check data you want to delete\n",
        "\n",
        "result = db.myMovies.find_one({'year': 2018})\n",
        "print(result)"
      ]
    },
    {
      "cell_type": "code",
      "execution_count": 42,
      "metadata": {
        "id": "bg_dlWGBHGfD"
      },
      "outputs": [],
      "source": [
        "# Delete the records\n",
        "result = db.myMovies.delete_many({\"year\": 2018})"
      ]
    },
    {
      "cell_type": "code",
      "execution_count": 43,
      "metadata": {
        "colab": {
          "base_uri": "https://localhost:8080/",
          "height": 0
        },
        "id": "gmvAMMatHGfD",
        "outputId": "cf962a52-19f6-457d-ae8f-f0646593bfb3"
      },
      "outputs": [
        {
          "output_type": "stream",
          "name": "stdout",
          "text": [
            "None\n"
          ]
        }
      ],
      "source": [
        "#check if delete or not\n",
        "\n",
        "result = db.myMovies.find_one({'year': 2018})\n",
        "print(result)"
      ]
    },
    {
      "cell_type": "markdown",
      "metadata": {
        "id": "t_FgDhetHGfD"
      },
      "source": [
        "If you are deleting a large number of documents it may be more efficient to drop the collection instead of deleting all the documents."
      ]
    },
    {
      "cell_type": "code",
      "execution_count": 44,
      "metadata": {
        "id": "IAqC0FpxHGfD"
      },
      "outputs": [],
      "source": [
        "client.close()"
      ]
    },
    {
      "cell_type": "code",
      "execution_count": null,
      "metadata": {
        "id": "5u0FwpZtHGfD"
      },
      "outputs": [],
      "source": []
    }
  ],
  "metadata": {
    "kernelspec": {
      "display_name": "Python 3",
      "language": "python",
      "name": "python3"
    },
    "language_info": {
      "codemirror_mode": {
        "name": "ipython",
        "version": 3
      },
      "file_extension": ".py",
      "mimetype": "text/x-python",
      "name": "python",
      "nbconvert_exporter": "python",
      "pygments_lexer": "ipython3",
      "version": "3.8.8"
    },
    "colab": {
      "provenance": []
    }
  },
  "nbformat": 4,
  "nbformat_minor": 0
}