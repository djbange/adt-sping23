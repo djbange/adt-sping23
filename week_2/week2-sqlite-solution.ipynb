{
  "nbformat": 4,
  "nbformat_minor": 0,
  "metadata": {
    "kernelspec": {
      "display_name": "Python 3",
      "language": "python",
      "name": "python3"
    },
    "language_info": {
      "codemirror_mode": {
        "name": "ipython",
        "version": 3
      },
      "file_extension": ".py",
      "mimetype": "text/x-python",
      "name": "python",
      "nbconvert_exporter": "python",
      "pygments_lexer": "ipython3",
      "version": "3.7.1"
    },
    "colab": {
      "name": "week2-sqlite.ipynb",
      "provenance": [],
      "collapsed_sections": []
    }
  },
  "cells": [
    {
      "cell_type": "markdown",
      "metadata": {
        "id": "uVQRfEfYD5p7"
      },
      "source": [
        "# Week 2 Practice"
      ]
    },
    {
      "cell_type": "markdown",
      "metadata": {
        "id": "n-ly2I8jD5p8"
      },
      "source": [
        "You will need:\n",
        "- Chapter 2 (SQL Cook Book). In this notebook you will be practicing the code provided in the chapter.\n",
        "- emp.csv and dept.csv from the canvas Week 1 Practice\n",
        "\n",
        "************\n",
        "- Step 1: Connect to database week1.db\n",
        "- Step 2: Review tables\n",
        "- Step 3: Delete tables\n"
      ]
    },
    {
      "cell_type": "code",
      "metadata": {
        "id": "97Hh6TzaD5p9"
      },
      "source": [
        "import sqlite3\n",
        "import pandas as pd"
      ],
      "execution_count": 111,
      "outputs": []
    },
    {
      "cell_type": "markdown",
      "metadata": {
        "id": "VuDaK1mzD5p9"
      },
      "source": [
        "### STEP 1. Connect to your database named week1. You should have a file week1.db in your local directory."
      ]
    },
    {
      "cell_type": "code",
      "metadata": {
        "id": "QV2zxmnSD5p-"
      },
      "source": [
        "conn = sqlite3.connect('week1.db')  \n",
        "c = conn.cursor()"
      ],
      "execution_count": 112,
      "outputs": []
    },
    {
      "cell_type": "markdown",
      "metadata": {
        "id": "M2ew4F-cHQc3"
      },
      "source": [
        "### CREATE TABELE IF DOESN'T EXISTS\n",
        "(Remove tables if you get error saying table exists)"
      ]
    },
    {
      "cell_type": "code",
      "metadata": {
        "id": "Kbi_6vdBHMue"
      },
      "source": [
        "read_emp = pd.read_csv(r'emp.csv')\n",
        "read_emp.to_sql('emp', conn, if_exists='append', index = False) # Insert the values from the csv file into the table 'emp' "
      ],
      "execution_count": 113,
      "outputs": []
    },
    {
      "cell_type": "code",
      "metadata": {
        "id": "fQxQbUvlHXR6"
      },
      "source": [
        "read_dept = pd.read_csv(r'dept.csv')\n",
        "read_dept.to_sql('dept', conn, if_exists='append', index = False) # Insert the values from the csv file into the table 'dept' "
      ],
      "execution_count": 114,
      "outputs": []
    },
    {
      "cell_type": "code",
      "metadata": {
        "colab": {
          "base_uri": "https://localhost:8080/"
        },
        "id": "0_QfskMsGowe",
        "outputId": "22c1d32b-520a-40b7-c5ff-a5f20f30039d"
      },
      "source": [
        "c.execute('SELECT * FROM dept')\n",
        "print(c.fetchall())"
      ],
      "execution_count": 115,
      "outputs": [
        {
          "output_type": "stream",
          "text": [
            "[(10, 'ACCOUNTING', 'NEW YORK'), (20, 'RESEARCH', 'DALLAS'), (30, 'SALES', 'CHICAGO'), (40, 'OPERATIONS', 'BOSTON')]\n"
          ],
          "name": "stdout"
        }
      ]
    },
    {
      "cell_type": "markdown",
      "metadata": {
        "id": "fBUOTOlZD5p-"
      },
      "source": [
        "### STEP 2. Review tables in your database emp and dept\n",
        "\n",
        "Every **SQLite database** has a special table named _sqlite_master_, which is a system created table"
      ]
    },
    {
      "cell_type": "code",
      "metadata": {
        "colab": {
          "base_uri": "https://localhost:8080/"
        },
        "id": "pqZJQqIQD5p-",
        "outputId": "d31984ea-f8ff-4d50-c296-5ecfb7c7de0d"
      },
      "source": [
        "c.execute(\"select * from SQLite_master;\") # if you do not need to write sql code on multiple lines, you can use single/double quotes\n",
        "\n",
        "tables = c.fetchall()\n",
        "\n",
        "print(\"Listing tables and indices from main database:\")\n",
        "\n",
        "for table in tables:\n",
        "        print(table)\n",
        "\n",
        "        print(\"Table Name: %s\"%(table[2]))"
      ],
      "execution_count": 116,
      "outputs": [
        {
          "output_type": "stream",
          "text": [
            "Listing tables and indices from main database:\n",
            "('view', 'Z', 'Z', 0, \"CREATE VIEW Z as select ename||' '||deptno as data from emp\")\n",
            "Table Name: Z\n",
            "('view', 'S', 'S', 0, \"CREATE VIEW S as select ename||' '||deptno as data from emp\")\n",
            "Table Name: S\n",
            "('view', 'D', 'D', 0, \"CREATE VIEW D as select ename||' '||deptno as data from emp\")\n",
            "Table Name: D\n",
            "('table', 'emp', 'emp', 2, 'CREATE TABLE \"emp\" (\\n\"EMPNO\" INTEGER,\\n  \"ENAME\" TEXT,\\n  \"JOB\" TEXT,\\n  \"MGR\" REAL,\\n  \"HIREDATE\" TEXT,\\n  \"SAL\" INTEGER,\\n  \"COMM\" REAL,\\n  \"DEPTNO\" INTEGER\\n)')\n",
            "Table Name: emp\n",
            "('table', 'dept', 'dept', 3, 'CREATE TABLE \"dept\" (\\n\"DEPTNO\" INTEGER,\\n  \"DNAME\" TEXT,\\n  \"LOC\" TEXT\\n)')\n",
            "Table Name: dept\n"
          ],
          "name": "stdout"
        }
      ]
    },
    {
      "cell_type": "markdown",
      "metadata": {
        "id": "kGHqrTjiD5p_"
      },
      "source": [
        "### Step 3. Delete tables\n",
        "\n",
        "*DROP TABLE SQL* statement drops an existing table from the SQLite database"
      ]
    },
    {
      "cell_type": "code",
      "metadata": {
        "colab": {
          "base_uri": "https://localhost:8080/"
        },
        "id": "8WnbR6TOD5p_",
        "outputId": "eeafdaaa-bc6f-433c-8f09-36fdd4300e3d"
      },
      "source": [
        "c.execute('DROP TABLE emp;')"
      ],
      "execution_count": 117,
      "outputs": [
        {
          "output_type": "execute_result",
          "data": {
            "text/plain": [
              "<sqlite3.Cursor at 0x7fe1e25c00a0>"
            ]
          },
          "metadata": {
            "tags": []
          },
          "execution_count": 117
        }
      ]
    },
    {
      "cell_type": "code",
      "metadata": {
        "colab": {
          "base_uri": "https://localhost:8080/"
        },
        "id": "wUMbMOSAD5qA",
        "outputId": "e481dd57-8cae-46b0-db69-28b5f80a9bef"
      },
      "source": [
        "c.execute('DROP TABLE dept;')"
      ],
      "execution_count": 118,
      "outputs": [
        {
          "output_type": "execute_result",
          "data": {
            "text/plain": [
              "<sqlite3.Cursor at 0x7fe1e25c00a0>"
            ]
          },
          "metadata": {
            "tags": []
          },
          "execution_count": 118
        }
      ]
    },
    {
      "cell_type": "markdown",
      "metadata": {
        "id": "pBUQ5dJdD5qA"
      },
      "source": [
        "### Step 4. Create Tables\n",
        "\n",
        "Option 1: insert"
      ]
    },
    {
      "cell_type": "code",
      "metadata": {
        "colab": {
          "base_uri": "https://localhost:8080/"
        },
        "id": "HyDII88bD5qA",
        "outputId": "3ba768fc-0a81-45cb-cb59-1ec4a8ef52ff"
      },
      "source": [
        "c.execute('''CREATE TABLE DEPT(\n",
        "   DEPTNO INT PRIMARY KEY      NOT NULL,\n",
        "   DNAME           CHAR(50) NOT NULL,\n",
        "   LOC         CHAR(50)      NOT NULL\n",
        ");''')"
      ],
      "execution_count": 119,
      "outputs": [
        {
          "output_type": "execute_result",
          "data": {
            "text/plain": [
              "<sqlite3.Cursor at 0x7fe1e25c00a0>"
            ]
          },
          "metadata": {
            "tags": []
          },
          "execution_count": 119
        }
      ]
    },
    {
      "cell_type": "markdown",
      "metadata": {
        "id": "VtFZ3RKHH3k3"
      },
      "source": [
        "##### Following command shows how to import the file(csv) and insert into table DEPT.\n",
        "\n",
        "```cur.executemany()```  Allows to insert multiple rows at once\n",
        "\n",
        "```INSERT``` statement must specify the number of columns(?, ?, ? = three columns)"
      ]
    },
    {
      "cell_type": "code",
      "metadata": {
        "id": "oreHOo-AD5qB"
      },
      "source": [
        "import csv\n",
        "dept_file = open(\"dept.csv\")\n",
        "dept_rows = csv.reader(dept_file)"
      ],
      "execution_count": 120,
      "outputs": []
    },
    {
      "cell_type": "code",
      "metadata": {
        "colab": {
          "base_uri": "https://localhost:8080/"
        },
        "id": "vtJiukNBD5qB",
        "outputId": "3282e47b-1c67-4572-8598-88329f377c36"
      },
      "source": [
        "c. executemany(\"INSERT INTO dept VALUES (?, ?, ?)\", dept_rows)\n",
        "c. execute(\"SELECT * FROM dept\")\n",
        "print(c. fetchall())"
      ],
      "execution_count": 121,
      "outputs": [
        {
          "output_type": "stream",
          "text": [
            "[('DEPTNO', 'DNAME', 'LOC'), (10, 'ACCOUNTING', 'NEW YORK'), (20, 'RESEARCH', 'DALLAS'), (30, 'SALES', 'CHICAGO'), (40, 'OPERATIONS', 'BOSTON')]\n"
          ],
          "name": "stdout"
        }
      ]
    },
    {
      "cell_type": "markdown",
      "metadata": {
        "id": "jGwgqCvsI5GB"
      },
      "source": [
        "- *SQLITE does not have DROP DATABASE. You have to actually delete the database file from the directory.*"
      ]
    },
    {
      "cell_type": "markdown",
      "metadata": {
        "id": "HDN6-dXaD5qC"
      },
      "source": [
        "Option 2: pandas dataframe to sql or creating a table using pandas!."
      ]
    },
    {
      "cell_type": "code",
      "metadata": {
        "id": "H6apnxjjD5qC"
      },
      "source": [
        "read_emp = pd.read_csv(r'emp.csv')\n",
        "read_emp.to_sql('emp', conn, if_exists='append', index = False) # Insert the values from the csv file into the table 'emp' "
      ],
      "execution_count": 122,
      "outputs": []
    },
    {
      "cell_type": "code",
      "metadata": {
        "id": "YAj6vCbBD5qC"
      },
      "source": [
        "c. execute(\"SELECT * FROM emp\")\n",
        "colnames = c.description"
      ],
      "execution_count": 123,
      "outputs": []
    },
    {
      "cell_type": "code",
      "metadata": {
        "id": "_dKVt_QqD5qC"
      },
      "source": [
        "colnames_list = []\n",
        "for row in colnames:\n",
        "    colnames_list.append(row[0])"
      ],
      "execution_count": 124,
      "outputs": []
    },
    {
      "cell_type": "code",
      "metadata": {
        "colab": {
          "base_uri": "https://localhost:8080/"
        },
        "id": "-8z1InN3D5qD",
        "outputId": "4cf23d7b-2554-40a6-e642-0aa0e1e92bb1"
      },
      "source": [
        "colnames_list"
      ],
      "execution_count": 125,
      "outputs": [
        {
          "output_type": "execute_result",
          "data": {
            "text/plain": [
              "['EMPNO', 'ENAME', 'JOB', 'MGR', 'HIREDATE', 'SAL', 'COMM', 'DEPTNO']"
            ]
          },
          "metadata": {
            "tags": []
          },
          "execution_count": 125
        }
      ]
    },
    {
      "cell_type": "code",
      "metadata": {
        "colab": {
          "base_uri": "https://localhost:8080/",
          "height": 204
        },
        "id": "bdGXwgZ0D5qD",
        "outputId": "b76573ee-b309-4c07-f766-65901e71d275"
      },
      "source": [
        "df = pd.DataFrame(c.fetchall(), columns=colnames_list)\n",
        "df.head()"
      ],
      "execution_count": 126,
      "outputs": [
        {
          "output_type": "execute_result",
          "data": {
            "text/html": [
              "<div>\n",
              "<style scoped>\n",
              "    .dataframe tbody tr th:only-of-type {\n",
              "        vertical-align: middle;\n",
              "    }\n",
              "\n",
              "    .dataframe tbody tr th {\n",
              "        vertical-align: top;\n",
              "    }\n",
              "\n",
              "    .dataframe thead th {\n",
              "        text-align: right;\n",
              "    }\n",
              "</style>\n",
              "<table border=\"1\" class=\"dataframe\">\n",
              "  <thead>\n",
              "    <tr style=\"text-align: right;\">\n",
              "      <th></th>\n",
              "      <th>EMPNO</th>\n",
              "      <th>ENAME</th>\n",
              "      <th>JOB</th>\n",
              "      <th>MGR</th>\n",
              "      <th>HIREDATE</th>\n",
              "      <th>SAL</th>\n",
              "      <th>COMM</th>\n",
              "      <th>DEPTNO</th>\n",
              "    </tr>\n",
              "  </thead>\n",
              "  <tbody>\n",
              "    <tr>\n",
              "      <th>0</th>\n",
              "      <td>7369</td>\n",
              "      <td>SMITH</td>\n",
              "      <td>CLERK</td>\n",
              "      <td>7902.0</td>\n",
              "      <td>17-Dec-05</td>\n",
              "      <td>800</td>\n",
              "      <td>NaN</td>\n",
              "      <td>20</td>\n",
              "    </tr>\n",
              "    <tr>\n",
              "      <th>1</th>\n",
              "      <td>7499</td>\n",
              "      <td>ALLEN</td>\n",
              "      <td>SALESMAN</td>\n",
              "      <td>7698.0</td>\n",
              "      <td>20-Feb-06</td>\n",
              "      <td>1600</td>\n",
              "      <td>300.0</td>\n",
              "      <td>30</td>\n",
              "    </tr>\n",
              "    <tr>\n",
              "      <th>2</th>\n",
              "      <td>7521</td>\n",
              "      <td>WARD</td>\n",
              "      <td>SALESMAN</td>\n",
              "      <td>7698.0</td>\n",
              "      <td>22-Feb-06</td>\n",
              "      <td>1250</td>\n",
              "      <td>500.0</td>\n",
              "      <td>30</td>\n",
              "    </tr>\n",
              "    <tr>\n",
              "      <th>3</th>\n",
              "      <td>7566</td>\n",
              "      <td>JONES</td>\n",
              "      <td>MANAGER</td>\n",
              "      <td>7839.0</td>\n",
              "      <td>2-Apr-06</td>\n",
              "      <td>2975</td>\n",
              "      <td>NaN</td>\n",
              "      <td>20</td>\n",
              "    </tr>\n",
              "    <tr>\n",
              "      <th>4</th>\n",
              "      <td>7654</td>\n",
              "      <td>MARTIN</td>\n",
              "      <td>SALESMAN</td>\n",
              "      <td>7698.0</td>\n",
              "      <td>28-Sep-06</td>\n",
              "      <td>1250</td>\n",
              "      <td>1400.0</td>\n",
              "      <td>30</td>\n",
              "    </tr>\n",
              "  </tbody>\n",
              "</table>\n",
              "</div>"
            ],
            "text/plain": [
              "   EMPNO   ENAME       JOB     MGR   HIREDATE   SAL    COMM  DEPTNO\n",
              "0   7369   SMITH     CLERK  7902.0  17-Dec-05   800     NaN      20\n",
              "1   7499   ALLEN  SALESMAN  7698.0  20-Feb-06  1600   300.0      30\n",
              "2   7521    WARD  SALESMAN  7698.0  22-Feb-06  1250   500.0      30\n",
              "3   7566   JONES   MANAGER  7839.0   2-Apr-06  2975     NaN      20\n",
              "4   7654  MARTIN  SALESMAN  7698.0  28-Sep-06  1250  1400.0      30"
            ]
          },
          "metadata": {
            "tags": []
          },
          "execution_count": 126
        }
      ]
    },
    {
      "cell_type": "markdown",
      "metadata": {
        "id": "WJ-WXn-ID5qE"
      },
      "source": [
        "### Basics of SQL Queries  \n",
        "\n",
        "**SELECT**: Statement used to select rows and columns from a database. \n",
        "\n",
        "**FROM**:  Specifies which table in the database you want to direct your query to.\n",
        "\n",
        "**WHERE**: Clause for filtering for specified value(s).\n",
        "\n",
        "**GROUP BY**: Aggregating data. Needs to be used in conjunction with SQL aggregating functions like `SUM` and `COUNT`.\n",
        "\n",
        "**ORDER BY**: Sorting columns in the database. \n",
        "\n",
        "**JOIN**: Joins are used to combine tables with one another. \n",
        "\n",
        "**UNION**, **INTERSECT/EXCEPT**: Set operations. Unioning in SQL allows one to append tables on top of one another. "
      ]
    },
    {
      "cell_type": "markdown",
      "metadata": {
        "id": "kPNwXrVzD5qE"
      },
      "source": [
        "### Step 5. Practice Chapter 2"
      ]
    },
    {
      "cell_type": "code",
      "metadata": {
        "colab": {
          "base_uri": "https://localhost:8080/",
          "height": 142
        },
        "id": "arODq0uDD5qE",
        "outputId": "5f7d298c-d46e-4806-8af0-c7f716cfec00"
      },
      "source": [
        "c.execute('''\n",
        "select ename,job,sal\n",
        "    from emp\n",
        "    where deptno = 10\n",
        "    order by sal asc;\n",
        "''')\n",
        "\n",
        "colnames = c.description   # gather collumn names from a new query\n",
        "colnames_list = []\n",
        "for row in colnames:\n",
        "    colnames_list.append(row[0])\n",
        "\n",
        "df = pd.DataFrame(c.fetchall(), columns=colnames_list)\n",
        "df"
      ],
      "execution_count": 127,
      "outputs": [
        {
          "output_type": "execute_result",
          "data": {
            "text/html": [
              "<div>\n",
              "<style scoped>\n",
              "    .dataframe tbody tr th:only-of-type {\n",
              "        vertical-align: middle;\n",
              "    }\n",
              "\n",
              "    .dataframe tbody tr th {\n",
              "        vertical-align: top;\n",
              "    }\n",
              "\n",
              "    .dataframe thead th {\n",
              "        text-align: right;\n",
              "    }\n",
              "</style>\n",
              "<table border=\"1\" class=\"dataframe\">\n",
              "  <thead>\n",
              "    <tr style=\"text-align: right;\">\n",
              "      <th></th>\n",
              "      <th>ENAME</th>\n",
              "      <th>JOB</th>\n",
              "      <th>SAL</th>\n",
              "    </tr>\n",
              "  </thead>\n",
              "  <tbody>\n",
              "    <tr>\n",
              "      <th>0</th>\n",
              "      <td>MILLER</td>\n",
              "      <td>CLERK</td>\n",
              "      <td>1300</td>\n",
              "    </tr>\n",
              "    <tr>\n",
              "      <th>1</th>\n",
              "      <td>CLARK</td>\n",
              "      <td>MANAGER</td>\n",
              "      <td>2450</td>\n",
              "    </tr>\n",
              "    <tr>\n",
              "      <th>2</th>\n",
              "      <td>KING</td>\n",
              "      <td>PRESIDENT</td>\n",
              "      <td>5000</td>\n",
              "    </tr>\n",
              "  </tbody>\n",
              "</table>\n",
              "</div>"
            ],
            "text/plain": [
              "    ENAME        JOB   SAL\n",
              "0  MILLER      CLERK  1300\n",
              "1   CLARK    MANAGER  2450\n",
              "2    KING  PRESIDENT  5000"
            ]
          },
          "metadata": {
            "tags": []
          },
          "execution_count": 127
        }
      ]
    },
    {
      "cell_type": "markdown",
      "metadata": {
        "id": "5FQDB0XlD5qF"
      },
      "source": [
        "Exercice 1: Change the order for Salary to a descending order"
      ]
    },
    {
      "cell_type": "code",
      "metadata": {
        "colab": {
          "base_uri": "https://localhost:8080/",
          "height": 483
        },
        "id": "k8c0yWE3D5qF",
        "outputId": "4286399a-f06f-439c-f466-8c9350d2442e"
      },
      "source": [
        "# Exercice:\n",
        "# Change the order for Salary to a descending order\n",
        "# your code here\n",
        "c.execute('''\n",
        "select ename,job,sal\n",
        "    from emp\n",
        "    order by sal desc;\n",
        "''')\n",
        "\n",
        "colnames = c.description   # gather collumn names from a new query\n",
        "colnames_list = []\n",
        "for row in colnames:\n",
        "    colnames_list.append(row[0])\n",
        "\n",
        "df = pd.DataFrame(c.fetchall(), columns=colnames_list)\n",
        "df"
      ],
      "execution_count": 128,
      "outputs": [
        {
          "output_type": "execute_result",
          "data": {
            "text/html": [
              "<div>\n",
              "<style scoped>\n",
              "    .dataframe tbody tr th:only-of-type {\n",
              "        vertical-align: middle;\n",
              "    }\n",
              "\n",
              "    .dataframe tbody tr th {\n",
              "        vertical-align: top;\n",
              "    }\n",
              "\n",
              "    .dataframe thead th {\n",
              "        text-align: right;\n",
              "    }\n",
              "</style>\n",
              "<table border=\"1\" class=\"dataframe\">\n",
              "  <thead>\n",
              "    <tr style=\"text-align: right;\">\n",
              "      <th></th>\n",
              "      <th>ENAME</th>\n",
              "      <th>JOB</th>\n",
              "      <th>SAL</th>\n",
              "    </tr>\n",
              "  </thead>\n",
              "  <tbody>\n",
              "    <tr>\n",
              "      <th>0</th>\n",
              "      <td>KING</td>\n",
              "      <td>PRESIDENT</td>\n",
              "      <td>5000</td>\n",
              "    </tr>\n",
              "    <tr>\n",
              "      <th>1</th>\n",
              "      <td>SCOTT</td>\n",
              "      <td>ANALYST</td>\n",
              "      <td>3000</td>\n",
              "    </tr>\n",
              "    <tr>\n",
              "      <th>2</th>\n",
              "      <td>FORD</td>\n",
              "      <td>ANALYST</td>\n",
              "      <td>3000</td>\n",
              "    </tr>\n",
              "    <tr>\n",
              "      <th>3</th>\n",
              "      <td>JONES</td>\n",
              "      <td>MANAGER</td>\n",
              "      <td>2975</td>\n",
              "    </tr>\n",
              "    <tr>\n",
              "      <th>4</th>\n",
              "      <td>BLAKE</td>\n",
              "      <td>MANAGER</td>\n",
              "      <td>2850</td>\n",
              "    </tr>\n",
              "    <tr>\n",
              "      <th>5</th>\n",
              "      <td>CLARK</td>\n",
              "      <td>MANAGER</td>\n",
              "      <td>2450</td>\n",
              "    </tr>\n",
              "    <tr>\n",
              "      <th>6</th>\n",
              "      <td>ALLEN</td>\n",
              "      <td>SALESMAN</td>\n",
              "      <td>1600</td>\n",
              "    </tr>\n",
              "    <tr>\n",
              "      <th>7</th>\n",
              "      <td>TURNER</td>\n",
              "      <td>SALESMAN</td>\n",
              "      <td>1500</td>\n",
              "    </tr>\n",
              "    <tr>\n",
              "      <th>8</th>\n",
              "      <td>MILLER</td>\n",
              "      <td>CLERK</td>\n",
              "      <td>1300</td>\n",
              "    </tr>\n",
              "    <tr>\n",
              "      <th>9</th>\n",
              "      <td>WARD</td>\n",
              "      <td>SALESMAN</td>\n",
              "      <td>1250</td>\n",
              "    </tr>\n",
              "    <tr>\n",
              "      <th>10</th>\n",
              "      <td>MARTIN</td>\n",
              "      <td>SALESMAN</td>\n",
              "      <td>1250</td>\n",
              "    </tr>\n",
              "    <tr>\n",
              "      <th>11</th>\n",
              "      <td>ADAMS</td>\n",
              "      <td>CLERK</td>\n",
              "      <td>1100</td>\n",
              "    </tr>\n",
              "    <tr>\n",
              "      <th>12</th>\n",
              "      <td>JAMES</td>\n",
              "      <td>CLERK</td>\n",
              "      <td>950</td>\n",
              "    </tr>\n",
              "    <tr>\n",
              "      <th>13</th>\n",
              "      <td>SMITH</td>\n",
              "      <td>CLERK</td>\n",
              "      <td>800</td>\n",
              "    </tr>\n",
              "  </tbody>\n",
              "</table>\n",
              "</div>"
            ],
            "text/plain": [
              "     ENAME        JOB   SAL\n",
              "0     KING  PRESIDENT  5000\n",
              "1    SCOTT    ANALYST  3000\n",
              "2     FORD    ANALYST  3000\n",
              "3    JONES    MANAGER  2975\n",
              "4    BLAKE    MANAGER  2850\n",
              "5    CLARK    MANAGER  2450\n",
              "6    ALLEN   SALESMAN  1600\n",
              "7   TURNER   SALESMAN  1500\n",
              "8   MILLER      CLERK  1300\n",
              "9     WARD   SALESMAN  1250\n",
              "10  MARTIN   SALESMAN  1250\n",
              "11   ADAMS      CLERK  1100\n",
              "12   JAMES      CLERK   950\n",
              "13   SMITH      CLERK   800"
            ]
          },
          "metadata": {
            "tags": []
          },
          "execution_count": 128
        }
      ]
    },
    {
      "cell_type": "code",
      "metadata": {
        "colab": {
          "base_uri": "https://localhost:8080/",
          "height": 142
        },
        "id": "MR9xl4qyD5qF",
        "outputId": "78c75d7b-0d9d-41a1-bb6c-9a164630dfb0"
      },
      "source": [
        "c.execute('''\n",
        "select ename,job,sal\n",
        "  from emp\n",
        " where deptno = 10\n",
        " order by sal desc;\n",
        " ''')\n",
        "colnames = c.description   # gather collumn names from a new query\n",
        "colnames_list = []\n",
        "for row in colnames:\n",
        "    colnames_list.append(row[0])\n",
        "\n",
        "df = pd.DataFrame(c.fetchall(), columns=colnames_list)\n",
        "df"
      ],
      "execution_count": 129,
      "outputs": [
        {
          "output_type": "execute_result",
          "data": {
            "text/html": [
              "<div>\n",
              "<style scoped>\n",
              "    .dataframe tbody tr th:only-of-type {\n",
              "        vertical-align: middle;\n",
              "    }\n",
              "\n",
              "    .dataframe tbody tr th {\n",
              "        vertical-align: top;\n",
              "    }\n",
              "\n",
              "    .dataframe thead th {\n",
              "        text-align: right;\n",
              "    }\n",
              "</style>\n",
              "<table border=\"1\" class=\"dataframe\">\n",
              "  <thead>\n",
              "    <tr style=\"text-align: right;\">\n",
              "      <th></th>\n",
              "      <th>ENAME</th>\n",
              "      <th>JOB</th>\n",
              "      <th>SAL</th>\n",
              "    </tr>\n",
              "  </thead>\n",
              "  <tbody>\n",
              "    <tr>\n",
              "      <th>0</th>\n",
              "      <td>KING</td>\n",
              "      <td>PRESIDENT</td>\n",
              "      <td>5000</td>\n",
              "    </tr>\n",
              "    <tr>\n",
              "      <th>1</th>\n",
              "      <td>CLARK</td>\n",
              "      <td>MANAGER</td>\n",
              "      <td>2450</td>\n",
              "    </tr>\n",
              "    <tr>\n",
              "      <th>2</th>\n",
              "      <td>MILLER</td>\n",
              "      <td>CLERK</td>\n",
              "      <td>1300</td>\n",
              "    </tr>\n",
              "  </tbody>\n",
              "</table>\n",
              "</div>"
            ],
            "text/plain": [
              "    ENAME        JOB   SAL\n",
              "0    KING  PRESIDENT  5000\n",
              "1   CLARK    MANAGER  2450\n",
              "2  MILLER      CLERK  1300"
            ]
          },
          "metadata": {
            "tags": []
          },
          "execution_count": 129
        }
      ]
    },
    {
      "cell_type": "markdown",
      "metadata": {
        "id": "OH61cbCgD5qF"
      },
      "source": [
        "Exercice 2: Add more columns (e.g. employer number, hiring date)"
      ]
    },
    {
      "cell_type": "code",
      "metadata": {
        "colab": {
          "base_uri": "https://localhost:8080/"
        },
        "id": "0sRPk-61D5qG",
        "outputId": "5822a07c-287d-45c8-bf90-b8a983d1aba1"
      },
      "source": [
        "# Exercice 2\n",
        "# Your code\n",
        "c.execute(\"ALTER TABLE emp ADD COLUMN EMPLOYER_NUMBER VARCHAR(50)\")"
      ],
      "execution_count": 130,
      "outputs": [
        {
          "output_type": "execute_result",
          "data": {
            "text/plain": [
              "<sqlite3.Cursor at 0x7fe1e25c00a0>"
            ]
          },
          "metadata": {
            "tags": []
          },
          "execution_count": 130
        }
      ]
    },
    {
      "cell_type": "markdown",
      "metadata": {
        "id": "vh68F1SzZ3k7"
      },
      "source": [
        "- SQLite does not support adding multiple columns to a table using a single statement."
      ]
    },
    {
      "cell_type": "code",
      "metadata": {
        "colab": {
          "base_uri": "https://localhost:8080/"
        },
        "id": "U1qPTGKiZiUr",
        "outputId": "6e4e6709-32bf-494c-d637-22f64e1e73e7"
      },
      "source": [
        "# Add hiring date column.\n",
        "c.execute(\"ALTER TABLE emp ADD COLUMN HIRING_DATE DATE\")"
      ],
      "execution_count": 131,
      "outputs": [
        {
          "output_type": "execute_result",
          "data": {
            "text/plain": [
              "<sqlite3.Cursor at 0x7fe1e25c00a0>"
            ]
          },
          "metadata": {
            "tags": []
          },
          "execution_count": 131
        }
      ]
    },
    {
      "cell_type": "code",
      "metadata": {
        "colab": {
          "base_uri": "https://localhost:8080/",
          "height": 204
        },
        "id": "lithoM1QXtX6",
        "outputId": "86d13e4a-4771-4428-cac9-3de80e41a764"
      },
      "source": [
        "c. execute(\"SELECT * FROM emp\")\n",
        "colnames = c.description\n",
        "colnames_list = []\n",
        "for row in colnames:\n",
        "    colnames_list.append(row[0])\n",
        "df = pd.DataFrame(c.fetchall(), columns=colnames_list)\n",
        "df.head()"
      ],
      "execution_count": 132,
      "outputs": [
        {
          "output_type": "execute_result",
          "data": {
            "text/html": [
              "<div>\n",
              "<style scoped>\n",
              "    .dataframe tbody tr th:only-of-type {\n",
              "        vertical-align: middle;\n",
              "    }\n",
              "\n",
              "    .dataframe tbody tr th {\n",
              "        vertical-align: top;\n",
              "    }\n",
              "\n",
              "    .dataframe thead th {\n",
              "        text-align: right;\n",
              "    }\n",
              "</style>\n",
              "<table border=\"1\" class=\"dataframe\">\n",
              "  <thead>\n",
              "    <tr style=\"text-align: right;\">\n",
              "      <th></th>\n",
              "      <th>EMPNO</th>\n",
              "      <th>ENAME</th>\n",
              "      <th>JOB</th>\n",
              "      <th>MGR</th>\n",
              "      <th>HIREDATE</th>\n",
              "      <th>SAL</th>\n",
              "      <th>COMM</th>\n",
              "      <th>DEPTNO</th>\n",
              "      <th>EMPLOYER_NUMBER</th>\n",
              "      <th>HIRING_DATE</th>\n",
              "    </tr>\n",
              "  </thead>\n",
              "  <tbody>\n",
              "    <tr>\n",
              "      <th>0</th>\n",
              "      <td>7369</td>\n",
              "      <td>SMITH</td>\n",
              "      <td>CLERK</td>\n",
              "      <td>7902.0</td>\n",
              "      <td>17-Dec-05</td>\n",
              "      <td>800</td>\n",
              "      <td>NaN</td>\n",
              "      <td>20</td>\n",
              "      <td>None</td>\n",
              "      <td>None</td>\n",
              "    </tr>\n",
              "    <tr>\n",
              "      <th>1</th>\n",
              "      <td>7499</td>\n",
              "      <td>ALLEN</td>\n",
              "      <td>SALESMAN</td>\n",
              "      <td>7698.0</td>\n",
              "      <td>20-Feb-06</td>\n",
              "      <td>1600</td>\n",
              "      <td>300.0</td>\n",
              "      <td>30</td>\n",
              "      <td>None</td>\n",
              "      <td>None</td>\n",
              "    </tr>\n",
              "    <tr>\n",
              "      <th>2</th>\n",
              "      <td>7521</td>\n",
              "      <td>WARD</td>\n",
              "      <td>SALESMAN</td>\n",
              "      <td>7698.0</td>\n",
              "      <td>22-Feb-06</td>\n",
              "      <td>1250</td>\n",
              "      <td>500.0</td>\n",
              "      <td>30</td>\n",
              "      <td>None</td>\n",
              "      <td>None</td>\n",
              "    </tr>\n",
              "    <tr>\n",
              "      <th>3</th>\n",
              "      <td>7566</td>\n",
              "      <td>JONES</td>\n",
              "      <td>MANAGER</td>\n",
              "      <td>7839.0</td>\n",
              "      <td>2-Apr-06</td>\n",
              "      <td>2975</td>\n",
              "      <td>NaN</td>\n",
              "      <td>20</td>\n",
              "      <td>None</td>\n",
              "      <td>None</td>\n",
              "    </tr>\n",
              "    <tr>\n",
              "      <th>4</th>\n",
              "      <td>7654</td>\n",
              "      <td>MARTIN</td>\n",
              "      <td>SALESMAN</td>\n",
              "      <td>7698.0</td>\n",
              "      <td>28-Sep-06</td>\n",
              "      <td>1250</td>\n",
              "      <td>1400.0</td>\n",
              "      <td>30</td>\n",
              "      <td>None</td>\n",
              "      <td>None</td>\n",
              "    </tr>\n",
              "  </tbody>\n",
              "</table>\n",
              "</div>"
            ],
            "text/plain": [
              "   EMPNO   ENAME       JOB     MGR  ...    COMM  DEPTNO  EMPLOYER_NUMBER  HIRING_DATE\n",
              "0   7369   SMITH     CLERK  7902.0  ...     NaN      20             None         None\n",
              "1   7499   ALLEN  SALESMAN  7698.0  ...   300.0      30             None         None\n",
              "2   7521    WARD  SALESMAN  7698.0  ...   500.0      30             None         None\n",
              "3   7566   JONES   MANAGER  7839.0  ...     NaN      20             None         None\n",
              "4   7654  MARTIN  SALESMAN  7698.0  ...  1400.0      30             None         None\n",
              "\n",
              "[5 rows x 10 columns]"
            ]
          },
          "metadata": {
            "tags": []
          },
          "execution_count": 132
        }
      ]
    },
    {
      "cell_type": "markdown",
      "metadata": {
        "id": "09HC6rcqD5qG"
      },
      "source": [
        "Exercice 3: change the WHERE condition - find the salary > 2000"
      ]
    },
    {
      "cell_type": "code",
      "metadata": {
        "colab": {
          "base_uri": "https://localhost:8080/",
          "height": 235
        },
        "id": "SVb1FonOD5qG",
        "outputId": "e4e61794-26f4-4c5e-b00d-cf52907bb2f3"
      },
      "source": [
        "# Exercice 3\n",
        "# Your code\n",
        "c.execute('select * from emp where sal > 2000')\n",
        "colnames = c.description\n",
        "colnames_list = []\n",
        "for row in colnames:\n",
        "  colnames_list.append(row[0])\n",
        "\n",
        "df = pd.DataFrame(c.fetchall(), columns=colnames_list)\n",
        "df"
      ],
      "execution_count": 133,
      "outputs": [
        {
          "output_type": "execute_result",
          "data": {
            "text/html": [
              "<div>\n",
              "<style scoped>\n",
              "    .dataframe tbody tr th:only-of-type {\n",
              "        vertical-align: middle;\n",
              "    }\n",
              "\n",
              "    .dataframe tbody tr th {\n",
              "        vertical-align: top;\n",
              "    }\n",
              "\n",
              "    .dataframe thead th {\n",
              "        text-align: right;\n",
              "    }\n",
              "</style>\n",
              "<table border=\"1\" class=\"dataframe\">\n",
              "  <thead>\n",
              "    <tr style=\"text-align: right;\">\n",
              "      <th></th>\n",
              "      <th>EMPNO</th>\n",
              "      <th>ENAME</th>\n",
              "      <th>JOB</th>\n",
              "      <th>MGR</th>\n",
              "      <th>HIREDATE</th>\n",
              "      <th>SAL</th>\n",
              "      <th>COMM</th>\n",
              "      <th>DEPTNO</th>\n",
              "      <th>EMPLOYER_NUMBER</th>\n",
              "      <th>HIRING_DATE</th>\n",
              "    </tr>\n",
              "  </thead>\n",
              "  <tbody>\n",
              "    <tr>\n",
              "      <th>0</th>\n",
              "      <td>7566</td>\n",
              "      <td>JONES</td>\n",
              "      <td>MANAGER</td>\n",
              "      <td>7839.0</td>\n",
              "      <td>2-Apr-06</td>\n",
              "      <td>2975</td>\n",
              "      <td>None</td>\n",
              "      <td>20</td>\n",
              "      <td>None</td>\n",
              "      <td>None</td>\n",
              "    </tr>\n",
              "    <tr>\n",
              "      <th>1</th>\n",
              "      <td>7698</td>\n",
              "      <td>BLAKE</td>\n",
              "      <td>MANAGER</td>\n",
              "      <td>7839.0</td>\n",
              "      <td>1-May-06</td>\n",
              "      <td>2850</td>\n",
              "      <td>None</td>\n",
              "      <td>30</td>\n",
              "      <td>None</td>\n",
              "      <td>None</td>\n",
              "    </tr>\n",
              "    <tr>\n",
              "      <th>2</th>\n",
              "      <td>7782</td>\n",
              "      <td>CLARK</td>\n",
              "      <td>MANAGER</td>\n",
              "      <td>7839.0</td>\n",
              "      <td>9-Jun-06</td>\n",
              "      <td>2450</td>\n",
              "      <td>None</td>\n",
              "      <td>10</td>\n",
              "      <td>None</td>\n",
              "      <td>None</td>\n",
              "    </tr>\n",
              "    <tr>\n",
              "      <th>3</th>\n",
              "      <td>7788</td>\n",
              "      <td>SCOTT</td>\n",
              "      <td>ANALYST</td>\n",
              "      <td>7566.0</td>\n",
              "      <td>9-Dec-07</td>\n",
              "      <td>3000</td>\n",
              "      <td>None</td>\n",
              "      <td>20</td>\n",
              "      <td>None</td>\n",
              "      <td>None</td>\n",
              "    </tr>\n",
              "    <tr>\n",
              "      <th>4</th>\n",
              "      <td>7839</td>\n",
              "      <td>KING</td>\n",
              "      <td>PRESIDENT</td>\n",
              "      <td>NaN</td>\n",
              "      <td>17-Nov-06</td>\n",
              "      <td>5000</td>\n",
              "      <td>None</td>\n",
              "      <td>10</td>\n",
              "      <td>None</td>\n",
              "      <td>None</td>\n",
              "    </tr>\n",
              "    <tr>\n",
              "      <th>5</th>\n",
              "      <td>7902</td>\n",
              "      <td>FORD</td>\n",
              "      <td>ANALYST</td>\n",
              "      <td>7566.0</td>\n",
              "      <td>3-Dec-06</td>\n",
              "      <td>3000</td>\n",
              "      <td>None</td>\n",
              "      <td>20</td>\n",
              "      <td>None</td>\n",
              "      <td>None</td>\n",
              "    </tr>\n",
              "  </tbody>\n",
              "</table>\n",
              "</div>"
            ],
            "text/plain": [
              "   EMPNO  ENAME        JOB     MGR  ...  COMM  DEPTNO EMPLOYER_NUMBER  HIRING_DATE\n",
              "0   7566  JONES    MANAGER  7839.0  ...  None      20            None         None\n",
              "1   7698  BLAKE    MANAGER  7839.0  ...  None      30            None         None\n",
              "2   7782  CLARK    MANAGER  7839.0  ...  None      10            None         None\n",
              "3   7788  SCOTT    ANALYST  7566.0  ...  None      20            None         None\n",
              "4   7839   KING  PRESIDENT     NaN  ...  None      10            None         None\n",
              "5   7902   FORD    ANALYST  7566.0  ...  None      20            None         None\n",
              "\n",
              "[6 rows x 10 columns]"
            ]
          },
          "metadata": {
            "tags": []
          },
          "execution_count": 133
        }
      ]
    },
    {
      "cell_type": "code",
      "metadata": {
        "colab": {
          "base_uri": "https://localhost:8080/",
          "height": 483
        },
        "id": "UW6K3mtWD5qG",
        "outputId": "31becdbd-12a9-4097-d229-6f859e1bbec2"
      },
      "source": [
        "c.execute('''\n",
        "select ename,job\n",
        "  from emp\n",
        " order by substr(job,length(job)-1);\n",
        "  ''')\n",
        "colnames = c.description   # gather collumn names from a new query\n",
        "colnames_list = []\n",
        "for row in colnames:\n",
        "    colnames_list.append(row[0])\n",
        "\n",
        "df = pd.DataFrame(c.fetchall(), columns=colnames_list)\n",
        "df\n",
        " "
      ],
      "execution_count": 134,
      "outputs": [
        {
          "output_type": "execute_result",
          "data": {
            "text/html": [
              "<div>\n",
              "<style scoped>\n",
              "    .dataframe tbody tr th:only-of-type {\n",
              "        vertical-align: middle;\n",
              "    }\n",
              "\n",
              "    .dataframe tbody tr th {\n",
              "        vertical-align: top;\n",
              "    }\n",
              "\n",
              "    .dataframe thead th {\n",
              "        text-align: right;\n",
              "    }\n",
              "</style>\n",
              "<table border=\"1\" class=\"dataframe\">\n",
              "  <thead>\n",
              "    <tr style=\"text-align: right;\">\n",
              "      <th></th>\n",
              "      <th>ENAME</th>\n",
              "      <th>JOB</th>\n",
              "    </tr>\n",
              "  </thead>\n",
              "  <tbody>\n",
              "    <tr>\n",
              "      <th>0</th>\n",
              "      <td>ALLEN</td>\n",
              "      <td>SALESMAN</td>\n",
              "    </tr>\n",
              "    <tr>\n",
              "      <th>1</th>\n",
              "      <td>WARD</td>\n",
              "      <td>SALESMAN</td>\n",
              "    </tr>\n",
              "    <tr>\n",
              "      <th>2</th>\n",
              "      <td>MARTIN</td>\n",
              "      <td>SALESMAN</td>\n",
              "    </tr>\n",
              "    <tr>\n",
              "      <th>3</th>\n",
              "      <td>TURNER</td>\n",
              "      <td>SALESMAN</td>\n",
              "    </tr>\n",
              "    <tr>\n",
              "      <th>4</th>\n",
              "      <td>JONES</td>\n",
              "      <td>MANAGER</td>\n",
              "    </tr>\n",
              "    <tr>\n",
              "      <th>5</th>\n",
              "      <td>BLAKE</td>\n",
              "      <td>MANAGER</td>\n",
              "    </tr>\n",
              "    <tr>\n",
              "      <th>6</th>\n",
              "      <td>CLARK</td>\n",
              "      <td>MANAGER</td>\n",
              "    </tr>\n",
              "    <tr>\n",
              "      <th>7</th>\n",
              "      <td>KING</td>\n",
              "      <td>PRESIDENT</td>\n",
              "    </tr>\n",
              "    <tr>\n",
              "      <th>8</th>\n",
              "      <td>SMITH</td>\n",
              "      <td>CLERK</td>\n",
              "    </tr>\n",
              "    <tr>\n",
              "      <th>9</th>\n",
              "      <td>ADAMS</td>\n",
              "      <td>CLERK</td>\n",
              "    </tr>\n",
              "    <tr>\n",
              "      <th>10</th>\n",
              "      <td>JAMES</td>\n",
              "      <td>CLERK</td>\n",
              "    </tr>\n",
              "    <tr>\n",
              "      <th>11</th>\n",
              "      <td>MILLER</td>\n",
              "      <td>CLERK</td>\n",
              "    </tr>\n",
              "    <tr>\n",
              "      <th>12</th>\n",
              "      <td>SCOTT</td>\n",
              "      <td>ANALYST</td>\n",
              "    </tr>\n",
              "    <tr>\n",
              "      <th>13</th>\n",
              "      <td>FORD</td>\n",
              "      <td>ANALYST</td>\n",
              "    </tr>\n",
              "  </tbody>\n",
              "</table>\n",
              "</div>"
            ],
            "text/plain": [
              "     ENAME        JOB\n",
              "0    ALLEN   SALESMAN\n",
              "1     WARD   SALESMAN\n",
              "2   MARTIN   SALESMAN\n",
              "3   TURNER   SALESMAN\n",
              "4    JONES    MANAGER\n",
              "5    BLAKE    MANAGER\n",
              "6    CLARK    MANAGER\n",
              "7     KING  PRESIDENT\n",
              "8    SMITH      CLERK\n",
              "9    ADAMS      CLERK\n",
              "10   JAMES      CLERK\n",
              "11  MILLER      CLERK\n",
              "12   SCOTT    ANALYST\n",
              "13    FORD    ANALYST"
            ]
          },
          "metadata": {
            "tags": []
          },
          "execution_count": 134
        }
      ]
    },
    {
      "cell_type": "markdown",
      "metadata": {
        "id": "-66Sxp8_D5qH"
      },
      "source": [
        "Concatenation Example using ||\n",
        "\n",
        "name1||' '||name2  = name1 name2 (with space between)"
      ]
    },
    {
      "cell_type": "code",
      "metadata": {
        "colab": {
          "base_uri": "https://localhost:8080/",
          "height": 483
        },
        "id": "3iQyM6BXD5qH",
        "outputId": "ca0eb08a-b0ff-468f-c9f8-7466595f2124"
      },
      "source": [
        "c.execute('''\n",
        "select ename||' '||deptno as data\n",
        "  from emp;\n",
        "  ''')\n",
        "colnames = c.description   # gather collumn names from a new query\n",
        "colnames_list = []\n",
        "for row in colnames:\n",
        "    colnames_list.append(row[0])\n",
        "\n",
        "df = pd.DataFrame(c.fetchall(), columns=colnames_list)\n",
        "df"
      ],
      "execution_count": 135,
      "outputs": [
        {
          "output_type": "execute_result",
          "data": {
            "text/html": [
              "<div>\n",
              "<style scoped>\n",
              "    .dataframe tbody tr th:only-of-type {\n",
              "        vertical-align: middle;\n",
              "    }\n",
              "\n",
              "    .dataframe tbody tr th {\n",
              "        vertical-align: top;\n",
              "    }\n",
              "\n",
              "    .dataframe thead th {\n",
              "        text-align: right;\n",
              "    }\n",
              "</style>\n",
              "<table border=\"1\" class=\"dataframe\">\n",
              "  <thead>\n",
              "    <tr style=\"text-align: right;\">\n",
              "      <th></th>\n",
              "      <th>data</th>\n",
              "    </tr>\n",
              "  </thead>\n",
              "  <tbody>\n",
              "    <tr>\n",
              "      <th>0</th>\n",
              "      <td>SMITH 20</td>\n",
              "    </tr>\n",
              "    <tr>\n",
              "      <th>1</th>\n",
              "      <td>ALLEN 30</td>\n",
              "    </tr>\n",
              "    <tr>\n",
              "      <th>2</th>\n",
              "      <td>WARD 30</td>\n",
              "    </tr>\n",
              "    <tr>\n",
              "      <th>3</th>\n",
              "      <td>JONES 20</td>\n",
              "    </tr>\n",
              "    <tr>\n",
              "      <th>4</th>\n",
              "      <td>MARTIN 30</td>\n",
              "    </tr>\n",
              "    <tr>\n",
              "      <th>5</th>\n",
              "      <td>BLAKE 30</td>\n",
              "    </tr>\n",
              "    <tr>\n",
              "      <th>6</th>\n",
              "      <td>CLARK 10</td>\n",
              "    </tr>\n",
              "    <tr>\n",
              "      <th>7</th>\n",
              "      <td>SCOTT 20</td>\n",
              "    </tr>\n",
              "    <tr>\n",
              "      <th>8</th>\n",
              "      <td>KING 10</td>\n",
              "    </tr>\n",
              "    <tr>\n",
              "      <th>9</th>\n",
              "      <td>TURNER 30</td>\n",
              "    </tr>\n",
              "    <tr>\n",
              "      <th>10</th>\n",
              "      <td>ADAMS 20</td>\n",
              "    </tr>\n",
              "    <tr>\n",
              "      <th>11</th>\n",
              "      <td>JAMES 30</td>\n",
              "    </tr>\n",
              "    <tr>\n",
              "      <th>12</th>\n",
              "      <td>FORD 20</td>\n",
              "    </tr>\n",
              "    <tr>\n",
              "      <th>13</th>\n",
              "      <td>MILLER 10</td>\n",
              "    </tr>\n",
              "  </tbody>\n",
              "</table>\n",
              "</div>"
            ],
            "text/plain": [
              "         data\n",
              "0    SMITH 20\n",
              "1    ALLEN 30\n",
              "2     WARD 30\n",
              "3    JONES 20\n",
              "4   MARTIN 30\n",
              "5    BLAKE 30\n",
              "6    CLARK 10\n",
              "7    SCOTT 20\n",
              "8     KING 10\n",
              "9   TURNER 30\n",
              "10   ADAMS 20\n",
              "11   JAMES 30\n",
              "12    FORD 20\n",
              "13  MILLER 10"
            ]
          },
          "metadata": {
            "tags": []
          },
          "execution_count": 135
        }
      ]
    },
    {
      "cell_type": "markdown",
      "metadata": {
        "id": "RYjaopMXD5qH"
      },
      "source": [
        "Exercice 4: concatenate name and job"
      ]
    },
    {
      "cell_type": "code",
      "metadata": {
        "colab": {
          "base_uri": "https://localhost:8080/",
          "height": 483
        },
        "id": "Y3WeJAO_D5qH",
        "outputId": "1863cfeb-972f-423b-88a6-217f5fed0de3"
      },
      "source": [
        "# Exercice 4\n",
        "# Your code\n",
        "c.execute('''\n",
        "select ename||' '||job as data\n",
        "    from emp\n",
        "    order by replace(data,'##########','0123456789');\n",
        "  ''')\n",
        "colnames = c.description   # gather collumn names from a new query\n",
        "colnames_list = []\n",
        "for row in colnames:\n",
        "    colnames_list.append(row[0])\n",
        "\n",
        "df = pd.DataFrame(c.fetchall(), columns=colnames_list)\n",
        "df"
      ],
      "execution_count": 136,
      "outputs": [
        {
          "output_type": "execute_result",
          "data": {
            "text/html": [
              "<div>\n",
              "<style scoped>\n",
              "    .dataframe tbody tr th:only-of-type {\n",
              "        vertical-align: middle;\n",
              "    }\n",
              "\n",
              "    .dataframe tbody tr th {\n",
              "        vertical-align: top;\n",
              "    }\n",
              "\n",
              "    .dataframe thead th {\n",
              "        text-align: right;\n",
              "    }\n",
              "</style>\n",
              "<table border=\"1\" class=\"dataframe\">\n",
              "  <thead>\n",
              "    <tr style=\"text-align: right;\">\n",
              "      <th></th>\n",
              "      <th>data</th>\n",
              "    </tr>\n",
              "  </thead>\n",
              "  <tbody>\n",
              "    <tr>\n",
              "      <th>0</th>\n",
              "      <td>ADAMS CLERK</td>\n",
              "    </tr>\n",
              "    <tr>\n",
              "      <th>1</th>\n",
              "      <td>ALLEN SALESMAN</td>\n",
              "    </tr>\n",
              "    <tr>\n",
              "      <th>2</th>\n",
              "      <td>BLAKE MANAGER</td>\n",
              "    </tr>\n",
              "    <tr>\n",
              "      <th>3</th>\n",
              "      <td>CLARK MANAGER</td>\n",
              "    </tr>\n",
              "    <tr>\n",
              "      <th>4</th>\n",
              "      <td>FORD ANALYST</td>\n",
              "    </tr>\n",
              "    <tr>\n",
              "      <th>5</th>\n",
              "      <td>JAMES CLERK</td>\n",
              "    </tr>\n",
              "    <tr>\n",
              "      <th>6</th>\n",
              "      <td>JONES MANAGER</td>\n",
              "    </tr>\n",
              "    <tr>\n",
              "      <th>7</th>\n",
              "      <td>KING PRESIDENT</td>\n",
              "    </tr>\n",
              "    <tr>\n",
              "      <th>8</th>\n",
              "      <td>MARTIN SALESMAN</td>\n",
              "    </tr>\n",
              "    <tr>\n",
              "      <th>9</th>\n",
              "      <td>MILLER CLERK</td>\n",
              "    </tr>\n",
              "    <tr>\n",
              "      <th>10</th>\n",
              "      <td>SCOTT ANALYST</td>\n",
              "    </tr>\n",
              "    <tr>\n",
              "      <th>11</th>\n",
              "      <td>SMITH CLERK</td>\n",
              "    </tr>\n",
              "    <tr>\n",
              "      <th>12</th>\n",
              "      <td>TURNER SALESMAN</td>\n",
              "    </tr>\n",
              "    <tr>\n",
              "      <th>13</th>\n",
              "      <td>WARD SALESMAN</td>\n",
              "    </tr>\n",
              "  </tbody>\n",
              "</table>\n",
              "</div>"
            ],
            "text/plain": [
              "               data\n",
              "0       ADAMS CLERK\n",
              "1    ALLEN SALESMAN\n",
              "2     BLAKE MANAGER\n",
              "3     CLARK MANAGER\n",
              "4      FORD ANALYST\n",
              "5       JAMES CLERK\n",
              "6     JONES MANAGER\n",
              "7    KING PRESIDENT\n",
              "8   MARTIN SALESMAN\n",
              "9      MILLER CLERK\n",
              "10    SCOTT ANALYST\n",
              "11      SMITH CLERK\n",
              "12  TURNER SALESMAN\n",
              "13    WARD SALESMAN"
            ]
          },
          "metadata": {
            "tags": []
          },
          "execution_count": 136
        }
      ]
    },
    {
      "cell_type": "code",
      "metadata": {
        "colab": {
          "base_uri": "https://localhost:8080/",
          "height": 483
        },
        "id": "g4cEFGjpD5qI",
        "outputId": "3a07c8ef-2e44-4de8-ba63-53a357df1574"
      },
      "source": [
        "#TRAANSLATE is not available in sqlite\n",
        "c.execute('''\n",
        "select ename||' '||deptno as data\n",
        "    from emp\n",
        "    order by replace(data,'##########','0123456789');\n",
        "  ''')\n",
        "colnames = c.description   # gather collumn names from a new query\n",
        "colnames_list = []\n",
        "for row in colnames:\n",
        "    colnames_list.append(row[0])\n",
        "\n",
        "df = pd.DataFrame(c.fetchall(), columns=colnames_list)\n",
        "df    "
      ],
      "execution_count": 137,
      "outputs": [
        {
          "output_type": "execute_result",
          "data": {
            "text/html": [
              "<div>\n",
              "<style scoped>\n",
              "    .dataframe tbody tr th:only-of-type {\n",
              "        vertical-align: middle;\n",
              "    }\n",
              "\n",
              "    .dataframe tbody tr th {\n",
              "        vertical-align: top;\n",
              "    }\n",
              "\n",
              "    .dataframe thead th {\n",
              "        text-align: right;\n",
              "    }\n",
              "</style>\n",
              "<table border=\"1\" class=\"dataframe\">\n",
              "  <thead>\n",
              "    <tr style=\"text-align: right;\">\n",
              "      <th></th>\n",
              "      <th>data</th>\n",
              "    </tr>\n",
              "  </thead>\n",
              "  <tbody>\n",
              "    <tr>\n",
              "      <th>0</th>\n",
              "      <td>ADAMS 20</td>\n",
              "    </tr>\n",
              "    <tr>\n",
              "      <th>1</th>\n",
              "      <td>ALLEN 30</td>\n",
              "    </tr>\n",
              "    <tr>\n",
              "      <th>2</th>\n",
              "      <td>BLAKE 30</td>\n",
              "    </tr>\n",
              "    <tr>\n",
              "      <th>3</th>\n",
              "      <td>CLARK 10</td>\n",
              "    </tr>\n",
              "    <tr>\n",
              "      <th>4</th>\n",
              "      <td>FORD 20</td>\n",
              "    </tr>\n",
              "    <tr>\n",
              "      <th>5</th>\n",
              "      <td>JAMES 30</td>\n",
              "    </tr>\n",
              "    <tr>\n",
              "      <th>6</th>\n",
              "      <td>JONES 20</td>\n",
              "    </tr>\n",
              "    <tr>\n",
              "      <th>7</th>\n",
              "      <td>KING 10</td>\n",
              "    </tr>\n",
              "    <tr>\n",
              "      <th>8</th>\n",
              "      <td>MARTIN 30</td>\n",
              "    </tr>\n",
              "    <tr>\n",
              "      <th>9</th>\n",
              "      <td>MILLER 10</td>\n",
              "    </tr>\n",
              "    <tr>\n",
              "      <th>10</th>\n",
              "      <td>SCOTT 20</td>\n",
              "    </tr>\n",
              "    <tr>\n",
              "      <th>11</th>\n",
              "      <td>SMITH 20</td>\n",
              "    </tr>\n",
              "    <tr>\n",
              "      <th>12</th>\n",
              "      <td>TURNER 30</td>\n",
              "    </tr>\n",
              "    <tr>\n",
              "      <th>13</th>\n",
              "      <td>WARD 30</td>\n",
              "    </tr>\n",
              "  </tbody>\n",
              "</table>\n",
              "</div>"
            ],
            "text/plain": [
              "         data\n",
              "0    ADAMS 20\n",
              "1    ALLEN 30\n",
              "2    BLAKE 30\n",
              "3    CLARK 10\n",
              "4     FORD 20\n",
              "5    JAMES 30\n",
              "6    JONES 20\n",
              "7     KING 10\n",
              "8   MARTIN 30\n",
              "9   MILLER 10\n",
              "10   SCOTT 20\n",
              "11   SMITH 20\n",
              "12  TURNER 30\n",
              "13    WARD 30"
            ]
          },
          "metadata": {
            "tags": []
          },
          "execution_count": 137
        }
      ]
    },
    {
      "cell_type": "code",
      "metadata": {
        "colab": {
          "base_uri": "https://localhost:8080/",
          "height": 483
        },
        "id": "nvn-2ZPgD5qI",
        "outputId": "57775be6-6657-405b-d0ea-3b1a8f377bee"
      },
      "source": [
        "c.execute('''\n",
        "select ename,sal,comm\n",
        "    from (\n",
        "  select ename,sal,comm,\n",
        "         case when comm is null then 0 else 1 end as is_null\n",
        "    from emp\n",
        "         ) x\n",
        " order by is_null desc,comm;\n",
        "  ''')\n",
        "colnames = c.description   # gather collumn names from a new query\n",
        "colnames_list = []\n",
        "for row in colnames:\n",
        "    colnames_list.append(row[0])\n",
        "\n",
        "df = pd.DataFrame(c.fetchall(), columns=colnames_list)\n",
        "df  "
      ],
      "execution_count": 138,
      "outputs": [
        {
          "output_type": "execute_result",
          "data": {
            "text/html": [
              "<div>\n",
              "<style scoped>\n",
              "    .dataframe tbody tr th:only-of-type {\n",
              "        vertical-align: middle;\n",
              "    }\n",
              "\n",
              "    .dataframe tbody tr th {\n",
              "        vertical-align: top;\n",
              "    }\n",
              "\n",
              "    .dataframe thead th {\n",
              "        text-align: right;\n",
              "    }\n",
              "</style>\n",
              "<table border=\"1\" class=\"dataframe\">\n",
              "  <thead>\n",
              "    <tr style=\"text-align: right;\">\n",
              "      <th></th>\n",
              "      <th>ename</th>\n",
              "      <th>sal</th>\n",
              "      <th>comm</th>\n",
              "    </tr>\n",
              "  </thead>\n",
              "  <tbody>\n",
              "    <tr>\n",
              "      <th>0</th>\n",
              "      <td>TURNER</td>\n",
              "      <td>1500</td>\n",
              "      <td>0.0</td>\n",
              "    </tr>\n",
              "    <tr>\n",
              "      <th>1</th>\n",
              "      <td>ALLEN</td>\n",
              "      <td>1600</td>\n",
              "      <td>300.0</td>\n",
              "    </tr>\n",
              "    <tr>\n",
              "      <th>2</th>\n",
              "      <td>WARD</td>\n",
              "      <td>1250</td>\n",
              "      <td>500.0</td>\n",
              "    </tr>\n",
              "    <tr>\n",
              "      <th>3</th>\n",
              "      <td>MARTIN</td>\n",
              "      <td>1250</td>\n",
              "      <td>1400.0</td>\n",
              "    </tr>\n",
              "    <tr>\n",
              "      <th>4</th>\n",
              "      <td>SMITH</td>\n",
              "      <td>800</td>\n",
              "      <td>NaN</td>\n",
              "    </tr>\n",
              "    <tr>\n",
              "      <th>5</th>\n",
              "      <td>JONES</td>\n",
              "      <td>2975</td>\n",
              "      <td>NaN</td>\n",
              "    </tr>\n",
              "    <tr>\n",
              "      <th>6</th>\n",
              "      <td>BLAKE</td>\n",
              "      <td>2850</td>\n",
              "      <td>NaN</td>\n",
              "    </tr>\n",
              "    <tr>\n",
              "      <th>7</th>\n",
              "      <td>CLARK</td>\n",
              "      <td>2450</td>\n",
              "      <td>NaN</td>\n",
              "    </tr>\n",
              "    <tr>\n",
              "      <th>8</th>\n",
              "      <td>SCOTT</td>\n",
              "      <td>3000</td>\n",
              "      <td>NaN</td>\n",
              "    </tr>\n",
              "    <tr>\n",
              "      <th>9</th>\n",
              "      <td>KING</td>\n",
              "      <td>5000</td>\n",
              "      <td>NaN</td>\n",
              "    </tr>\n",
              "    <tr>\n",
              "      <th>10</th>\n",
              "      <td>ADAMS</td>\n",
              "      <td>1100</td>\n",
              "      <td>NaN</td>\n",
              "    </tr>\n",
              "    <tr>\n",
              "      <th>11</th>\n",
              "      <td>JAMES</td>\n",
              "      <td>950</td>\n",
              "      <td>NaN</td>\n",
              "    </tr>\n",
              "    <tr>\n",
              "      <th>12</th>\n",
              "      <td>FORD</td>\n",
              "      <td>3000</td>\n",
              "      <td>NaN</td>\n",
              "    </tr>\n",
              "    <tr>\n",
              "      <th>13</th>\n",
              "      <td>MILLER</td>\n",
              "      <td>1300</td>\n",
              "      <td>NaN</td>\n",
              "    </tr>\n",
              "  </tbody>\n",
              "</table>\n",
              "</div>"
            ],
            "text/plain": [
              "     ename   sal    comm\n",
              "0   TURNER  1500     0.0\n",
              "1    ALLEN  1600   300.0\n",
              "2     WARD  1250   500.0\n",
              "3   MARTIN  1250  1400.0\n",
              "4    SMITH   800     NaN\n",
              "5    JONES  2975     NaN\n",
              "6    BLAKE  2850     NaN\n",
              "7    CLARK  2450     NaN\n",
              "8    SCOTT  3000     NaN\n",
              "9     KING  5000     NaN\n",
              "10   ADAMS  1100     NaN\n",
              "11   JAMES   950     NaN\n",
              "12    FORD  3000     NaN\n",
              "13  MILLER  1300     NaN"
            ]
          },
          "metadata": {
            "tags": []
          },
          "execution_count": 138
        }
      ]
    },
    {
      "cell_type": "code",
      "metadata": {
        "colab": {
          "base_uri": "https://localhost:8080/",
          "height": 483
        },
        "id": "AZtx3X6vD5qI",
        "outputId": "968bc5db-5d98-41e2-8efa-1d4dd6e4e71b"
      },
      "source": [
        "c.execute('''\n",
        "select ename,sal,comm,\n",
        "       case when comm is null then 0 else 1 end as is_null\n",
        "  from emp;\n",
        "  ''')\n",
        "colnames = c.description   # gather collumn names from a new query\n",
        "colnames_list = []\n",
        "for row in colnames:\n",
        "    colnames_list.append(row[0])\n",
        "\n",
        "df = pd.DataFrame(c.fetchall(), columns=colnames_list)\n",
        "df "
      ],
      "execution_count": 139,
      "outputs": [
        {
          "output_type": "execute_result",
          "data": {
            "text/html": [
              "<div>\n",
              "<style scoped>\n",
              "    .dataframe tbody tr th:only-of-type {\n",
              "        vertical-align: middle;\n",
              "    }\n",
              "\n",
              "    .dataframe tbody tr th {\n",
              "        vertical-align: top;\n",
              "    }\n",
              "\n",
              "    .dataframe thead th {\n",
              "        text-align: right;\n",
              "    }\n",
              "</style>\n",
              "<table border=\"1\" class=\"dataframe\">\n",
              "  <thead>\n",
              "    <tr style=\"text-align: right;\">\n",
              "      <th></th>\n",
              "      <th>ENAME</th>\n",
              "      <th>SAL</th>\n",
              "      <th>COMM</th>\n",
              "      <th>is_null</th>\n",
              "    </tr>\n",
              "  </thead>\n",
              "  <tbody>\n",
              "    <tr>\n",
              "      <th>0</th>\n",
              "      <td>SMITH</td>\n",
              "      <td>800</td>\n",
              "      <td>NaN</td>\n",
              "      <td>0</td>\n",
              "    </tr>\n",
              "    <tr>\n",
              "      <th>1</th>\n",
              "      <td>ALLEN</td>\n",
              "      <td>1600</td>\n",
              "      <td>300.0</td>\n",
              "      <td>1</td>\n",
              "    </tr>\n",
              "    <tr>\n",
              "      <th>2</th>\n",
              "      <td>WARD</td>\n",
              "      <td>1250</td>\n",
              "      <td>500.0</td>\n",
              "      <td>1</td>\n",
              "    </tr>\n",
              "    <tr>\n",
              "      <th>3</th>\n",
              "      <td>JONES</td>\n",
              "      <td>2975</td>\n",
              "      <td>NaN</td>\n",
              "      <td>0</td>\n",
              "    </tr>\n",
              "    <tr>\n",
              "      <th>4</th>\n",
              "      <td>MARTIN</td>\n",
              "      <td>1250</td>\n",
              "      <td>1400.0</td>\n",
              "      <td>1</td>\n",
              "    </tr>\n",
              "    <tr>\n",
              "      <th>5</th>\n",
              "      <td>BLAKE</td>\n",
              "      <td>2850</td>\n",
              "      <td>NaN</td>\n",
              "      <td>0</td>\n",
              "    </tr>\n",
              "    <tr>\n",
              "      <th>6</th>\n",
              "      <td>CLARK</td>\n",
              "      <td>2450</td>\n",
              "      <td>NaN</td>\n",
              "      <td>0</td>\n",
              "    </tr>\n",
              "    <tr>\n",
              "      <th>7</th>\n",
              "      <td>SCOTT</td>\n",
              "      <td>3000</td>\n",
              "      <td>NaN</td>\n",
              "      <td>0</td>\n",
              "    </tr>\n",
              "    <tr>\n",
              "      <th>8</th>\n",
              "      <td>KING</td>\n",
              "      <td>5000</td>\n",
              "      <td>NaN</td>\n",
              "      <td>0</td>\n",
              "    </tr>\n",
              "    <tr>\n",
              "      <th>9</th>\n",
              "      <td>TURNER</td>\n",
              "      <td>1500</td>\n",
              "      <td>0.0</td>\n",
              "      <td>1</td>\n",
              "    </tr>\n",
              "    <tr>\n",
              "      <th>10</th>\n",
              "      <td>ADAMS</td>\n",
              "      <td>1100</td>\n",
              "      <td>NaN</td>\n",
              "      <td>0</td>\n",
              "    </tr>\n",
              "    <tr>\n",
              "      <th>11</th>\n",
              "      <td>JAMES</td>\n",
              "      <td>950</td>\n",
              "      <td>NaN</td>\n",
              "      <td>0</td>\n",
              "    </tr>\n",
              "    <tr>\n",
              "      <th>12</th>\n",
              "      <td>FORD</td>\n",
              "      <td>3000</td>\n",
              "      <td>NaN</td>\n",
              "      <td>0</td>\n",
              "    </tr>\n",
              "    <tr>\n",
              "      <th>13</th>\n",
              "      <td>MILLER</td>\n",
              "      <td>1300</td>\n",
              "      <td>NaN</td>\n",
              "      <td>0</td>\n",
              "    </tr>\n",
              "  </tbody>\n",
              "</table>\n",
              "</div>"
            ],
            "text/plain": [
              "     ENAME   SAL    COMM  is_null\n",
              "0    SMITH   800     NaN        0\n",
              "1    ALLEN  1600   300.0        1\n",
              "2     WARD  1250   500.0        1\n",
              "3    JONES  2975     NaN        0\n",
              "4   MARTIN  1250  1400.0        1\n",
              "5    BLAKE  2850     NaN        0\n",
              "6    CLARK  2450     NaN        0\n",
              "7    SCOTT  3000     NaN        0\n",
              "8     KING  5000     NaN        0\n",
              "9   TURNER  1500     0.0        1\n",
              "10   ADAMS  1100     NaN        0\n",
              "11   JAMES   950     NaN        0\n",
              "12    FORD  3000     NaN        0\n",
              "13  MILLER  1300     NaN        0"
            ]
          },
          "metadata": {
            "tags": []
          },
          "execution_count": 139
        }
      ]
    },
    {
      "cell_type": "markdown",
      "metadata": {
        "id": "0oH9eZZyD5qJ"
      },
      "source": [
        "### Step 6. SQL CookBook Chapter-2"
      ]
    },
    {
      "cell_type": "markdown",
      "metadata": {
        "id": "P0seryTPem7k"
      },
      "source": [
        "- “If you are ordering using the numeric position of a column in the SELECT list, then that number must not be greater than the number of items in the SELECT list. You are generally permitted to order by a column not in the SELECT list, but to do so you must explicitly name the column. However, if you are using GROUP BY or DISTINCT in your query, you cannot order by columns that are not in the SELECT list.” "
      ]
    },
    {
      "cell_type": "markdown",
      "metadata": {
        "id": "c7Jb-k2zbqWA"
      },
      "source": [
        "- Sorting by multiple fields"
      ]
    },
    {
      "cell_type": "code",
      "metadata": {
        "id": "PjGrR15ebnDF"
      },
      "source": [
        "# Helper function to display the table data\n",
        "def display_query_data(column_names):\n",
        "  # gather collumn names from a new query\n",
        "  colnames_list = []\n",
        "  for row in column_names:\n",
        "      colnames_list.append(row[0])\n",
        "\n",
        "  df = pd.DataFrame(c.fetchall(), columns=colnames_list)\n",
        "  return df"
      ],
      "execution_count": 140,
      "outputs": []
    },
    {
      "cell_type": "code",
      "metadata": {
        "colab": {
          "base_uri": "https://localhost:8080/",
          "height": 483
        },
        "id": "kRLL4FnlcsGj",
        "outputId": "8bb81e8b-839f-43dd-eecd-0a9fc085398c"
      },
      "source": [
        "c.execute('''\n",
        "select empno,deptno,sal,ename,job\n",
        "from emp\n",
        "order by deptno, sal desc;\n",
        "  ''')\n",
        "colnames = c.description\n",
        "display_query_data(colnames)"
      ],
      "execution_count": 141,
      "outputs": [
        {
          "output_type": "execute_result",
          "data": {
            "text/html": [
              "<div>\n",
              "<style scoped>\n",
              "    .dataframe tbody tr th:only-of-type {\n",
              "        vertical-align: middle;\n",
              "    }\n",
              "\n",
              "    .dataframe tbody tr th {\n",
              "        vertical-align: top;\n",
              "    }\n",
              "\n",
              "    .dataframe thead th {\n",
              "        text-align: right;\n",
              "    }\n",
              "</style>\n",
              "<table border=\"1\" class=\"dataframe\">\n",
              "  <thead>\n",
              "    <tr style=\"text-align: right;\">\n",
              "      <th></th>\n",
              "      <th>EMPNO</th>\n",
              "      <th>DEPTNO</th>\n",
              "      <th>SAL</th>\n",
              "      <th>ENAME</th>\n",
              "      <th>JOB</th>\n",
              "    </tr>\n",
              "  </thead>\n",
              "  <tbody>\n",
              "    <tr>\n",
              "      <th>0</th>\n",
              "      <td>7839</td>\n",
              "      <td>10</td>\n",
              "      <td>5000</td>\n",
              "      <td>KING</td>\n",
              "      <td>PRESIDENT</td>\n",
              "    </tr>\n",
              "    <tr>\n",
              "      <th>1</th>\n",
              "      <td>7782</td>\n",
              "      <td>10</td>\n",
              "      <td>2450</td>\n",
              "      <td>CLARK</td>\n",
              "      <td>MANAGER</td>\n",
              "    </tr>\n",
              "    <tr>\n",
              "      <th>2</th>\n",
              "      <td>7934</td>\n",
              "      <td>10</td>\n",
              "      <td>1300</td>\n",
              "      <td>MILLER</td>\n",
              "      <td>CLERK</td>\n",
              "    </tr>\n",
              "    <tr>\n",
              "      <th>3</th>\n",
              "      <td>7788</td>\n",
              "      <td>20</td>\n",
              "      <td>3000</td>\n",
              "      <td>SCOTT</td>\n",
              "      <td>ANALYST</td>\n",
              "    </tr>\n",
              "    <tr>\n",
              "      <th>4</th>\n",
              "      <td>7902</td>\n",
              "      <td>20</td>\n",
              "      <td>3000</td>\n",
              "      <td>FORD</td>\n",
              "      <td>ANALYST</td>\n",
              "    </tr>\n",
              "    <tr>\n",
              "      <th>5</th>\n",
              "      <td>7566</td>\n",
              "      <td>20</td>\n",
              "      <td>2975</td>\n",
              "      <td>JONES</td>\n",
              "      <td>MANAGER</td>\n",
              "    </tr>\n",
              "    <tr>\n",
              "      <th>6</th>\n",
              "      <td>7876</td>\n",
              "      <td>20</td>\n",
              "      <td>1100</td>\n",
              "      <td>ADAMS</td>\n",
              "      <td>CLERK</td>\n",
              "    </tr>\n",
              "    <tr>\n",
              "      <th>7</th>\n",
              "      <td>7369</td>\n",
              "      <td>20</td>\n",
              "      <td>800</td>\n",
              "      <td>SMITH</td>\n",
              "      <td>CLERK</td>\n",
              "    </tr>\n",
              "    <tr>\n",
              "      <th>8</th>\n",
              "      <td>7698</td>\n",
              "      <td>30</td>\n",
              "      <td>2850</td>\n",
              "      <td>BLAKE</td>\n",
              "      <td>MANAGER</td>\n",
              "    </tr>\n",
              "    <tr>\n",
              "      <th>9</th>\n",
              "      <td>7499</td>\n",
              "      <td>30</td>\n",
              "      <td>1600</td>\n",
              "      <td>ALLEN</td>\n",
              "      <td>SALESMAN</td>\n",
              "    </tr>\n",
              "    <tr>\n",
              "      <th>10</th>\n",
              "      <td>7844</td>\n",
              "      <td>30</td>\n",
              "      <td>1500</td>\n",
              "      <td>TURNER</td>\n",
              "      <td>SALESMAN</td>\n",
              "    </tr>\n",
              "    <tr>\n",
              "      <th>11</th>\n",
              "      <td>7521</td>\n",
              "      <td>30</td>\n",
              "      <td>1250</td>\n",
              "      <td>WARD</td>\n",
              "      <td>SALESMAN</td>\n",
              "    </tr>\n",
              "    <tr>\n",
              "      <th>12</th>\n",
              "      <td>7654</td>\n",
              "      <td>30</td>\n",
              "      <td>1250</td>\n",
              "      <td>MARTIN</td>\n",
              "      <td>SALESMAN</td>\n",
              "    </tr>\n",
              "    <tr>\n",
              "      <th>13</th>\n",
              "      <td>7900</td>\n",
              "      <td>30</td>\n",
              "      <td>950</td>\n",
              "      <td>JAMES</td>\n",
              "      <td>CLERK</td>\n",
              "    </tr>\n",
              "  </tbody>\n",
              "</table>\n",
              "</div>"
            ],
            "text/plain": [
              "    EMPNO  DEPTNO   SAL   ENAME        JOB\n",
              "0    7839      10  5000    KING  PRESIDENT\n",
              "1    7782      10  2450   CLARK    MANAGER\n",
              "2    7934      10  1300  MILLER      CLERK\n",
              "3    7788      20  3000   SCOTT    ANALYST\n",
              "4    7902      20  3000    FORD    ANALYST\n",
              "5    7566      20  2975   JONES    MANAGER\n",
              "6    7876      20  1100   ADAMS      CLERK\n",
              "7    7369      20   800   SMITH      CLERK\n",
              "8    7698      30  2850   BLAKE    MANAGER\n",
              "9    7499      30  1600   ALLEN   SALESMAN\n",
              "10   7844      30  1500  TURNER   SALESMAN\n",
              "11   7521      30  1250    WARD   SALESMAN\n",
              "12   7654      30  1250  MARTIN   SALESMAN\n",
              "13   7900      30   950   JAMES      CLERK"
            ]
          },
          "metadata": {
            "tags": []
          },
          "execution_count": 141
        }
      ]
    },
    {
      "cell_type": "markdown",
      "metadata": {
        "id": "4h7TQLgWeSB_"
      },
      "source": [
        "- Sorting by substring"
      ]
    },
    {
      "cell_type": "code",
      "metadata": {
        "colab": {
          "base_uri": "https://localhost:8080/",
          "height": 483
        },
        "id": "l5oNp-oqeWBE",
        "outputId": "87653153-2002-44cb-b223-8e1427774158"
      },
      "source": [
        "c.execute('''\n",
        "select ename,job from emp;\n",
        "''')\n",
        "colnames = c.description\n",
        "display_query_data(colnames)"
      ],
      "execution_count": 142,
      "outputs": [
        {
          "output_type": "execute_result",
          "data": {
            "text/html": [
              "<div>\n",
              "<style scoped>\n",
              "    .dataframe tbody tr th:only-of-type {\n",
              "        vertical-align: middle;\n",
              "    }\n",
              "\n",
              "    .dataframe tbody tr th {\n",
              "        vertical-align: top;\n",
              "    }\n",
              "\n",
              "    .dataframe thead th {\n",
              "        text-align: right;\n",
              "    }\n",
              "</style>\n",
              "<table border=\"1\" class=\"dataframe\">\n",
              "  <thead>\n",
              "    <tr style=\"text-align: right;\">\n",
              "      <th></th>\n",
              "      <th>ENAME</th>\n",
              "      <th>JOB</th>\n",
              "    </tr>\n",
              "  </thead>\n",
              "  <tbody>\n",
              "    <tr>\n",
              "      <th>0</th>\n",
              "      <td>SMITH</td>\n",
              "      <td>CLERK</td>\n",
              "    </tr>\n",
              "    <tr>\n",
              "      <th>1</th>\n",
              "      <td>ALLEN</td>\n",
              "      <td>SALESMAN</td>\n",
              "    </tr>\n",
              "    <tr>\n",
              "      <th>2</th>\n",
              "      <td>WARD</td>\n",
              "      <td>SALESMAN</td>\n",
              "    </tr>\n",
              "    <tr>\n",
              "      <th>3</th>\n",
              "      <td>JONES</td>\n",
              "      <td>MANAGER</td>\n",
              "    </tr>\n",
              "    <tr>\n",
              "      <th>4</th>\n",
              "      <td>MARTIN</td>\n",
              "      <td>SALESMAN</td>\n",
              "    </tr>\n",
              "    <tr>\n",
              "      <th>5</th>\n",
              "      <td>BLAKE</td>\n",
              "      <td>MANAGER</td>\n",
              "    </tr>\n",
              "    <tr>\n",
              "      <th>6</th>\n",
              "      <td>CLARK</td>\n",
              "      <td>MANAGER</td>\n",
              "    </tr>\n",
              "    <tr>\n",
              "      <th>7</th>\n",
              "      <td>SCOTT</td>\n",
              "      <td>ANALYST</td>\n",
              "    </tr>\n",
              "    <tr>\n",
              "      <th>8</th>\n",
              "      <td>KING</td>\n",
              "      <td>PRESIDENT</td>\n",
              "    </tr>\n",
              "    <tr>\n",
              "      <th>9</th>\n",
              "      <td>TURNER</td>\n",
              "      <td>SALESMAN</td>\n",
              "    </tr>\n",
              "    <tr>\n",
              "      <th>10</th>\n",
              "      <td>ADAMS</td>\n",
              "      <td>CLERK</td>\n",
              "    </tr>\n",
              "    <tr>\n",
              "      <th>11</th>\n",
              "      <td>JAMES</td>\n",
              "      <td>CLERK</td>\n",
              "    </tr>\n",
              "    <tr>\n",
              "      <th>12</th>\n",
              "      <td>FORD</td>\n",
              "      <td>ANALYST</td>\n",
              "    </tr>\n",
              "    <tr>\n",
              "      <th>13</th>\n",
              "      <td>MILLER</td>\n",
              "      <td>CLERK</td>\n",
              "    </tr>\n",
              "  </tbody>\n",
              "</table>\n",
              "</div>"
            ],
            "text/plain": [
              "     ENAME        JOB\n",
              "0    SMITH      CLERK\n",
              "1    ALLEN   SALESMAN\n",
              "2     WARD   SALESMAN\n",
              "3    JONES    MANAGER\n",
              "4   MARTIN   SALESMAN\n",
              "5    BLAKE    MANAGER\n",
              "6    CLARK    MANAGER\n",
              "7    SCOTT    ANALYST\n",
              "8     KING  PRESIDENT\n",
              "9   TURNER   SALESMAN\n",
              "10   ADAMS      CLERK\n",
              "11   JAMES      CLERK\n",
              "12    FORD    ANALYST\n",
              "13  MILLER      CLERK"
            ]
          },
          "metadata": {
            "tags": []
          },
          "execution_count": 142
        }
      ]
    },
    {
      "cell_type": "code",
      "metadata": {
        "colab": {
          "base_uri": "https://localhost:8080/",
          "height": 483
        },
        "id": "Xt-kzBANfJ7e",
        "outputId": "649045b1-3722-49fc-8d10-81da1e83907f"
      },
      "source": [
        "# This gives a table order by substring - DB2,MySQL,Oracle and PostgreSQL \n",
        "c.execute('''\n",
        "select ename,job\n",
        "    from emp\n",
        "    order by substr(job, length(job)-1) desc;\n",
        "''')\n",
        "colnames = c.description\n",
        "display_query_data(colnames)"
      ],
      "execution_count": 143,
      "outputs": [
        {
          "output_type": "execute_result",
          "data": {
            "text/html": [
              "<div>\n",
              "<style scoped>\n",
              "    .dataframe tbody tr th:only-of-type {\n",
              "        vertical-align: middle;\n",
              "    }\n",
              "\n",
              "    .dataframe tbody tr th {\n",
              "        vertical-align: top;\n",
              "    }\n",
              "\n",
              "    .dataframe thead th {\n",
              "        text-align: right;\n",
              "    }\n",
              "</style>\n",
              "<table border=\"1\" class=\"dataframe\">\n",
              "  <thead>\n",
              "    <tr style=\"text-align: right;\">\n",
              "      <th></th>\n",
              "      <th>ENAME</th>\n",
              "      <th>JOB</th>\n",
              "    </tr>\n",
              "  </thead>\n",
              "  <tbody>\n",
              "    <tr>\n",
              "      <th>0</th>\n",
              "      <td>SCOTT</td>\n",
              "      <td>ANALYST</td>\n",
              "    </tr>\n",
              "    <tr>\n",
              "      <th>1</th>\n",
              "      <td>FORD</td>\n",
              "      <td>ANALYST</td>\n",
              "    </tr>\n",
              "    <tr>\n",
              "      <th>2</th>\n",
              "      <td>SMITH</td>\n",
              "      <td>CLERK</td>\n",
              "    </tr>\n",
              "    <tr>\n",
              "      <th>3</th>\n",
              "      <td>ADAMS</td>\n",
              "      <td>CLERK</td>\n",
              "    </tr>\n",
              "    <tr>\n",
              "      <th>4</th>\n",
              "      <td>JAMES</td>\n",
              "      <td>CLERK</td>\n",
              "    </tr>\n",
              "    <tr>\n",
              "      <th>5</th>\n",
              "      <td>MILLER</td>\n",
              "      <td>CLERK</td>\n",
              "    </tr>\n",
              "    <tr>\n",
              "      <th>6</th>\n",
              "      <td>KING</td>\n",
              "      <td>PRESIDENT</td>\n",
              "    </tr>\n",
              "    <tr>\n",
              "      <th>7</th>\n",
              "      <td>JONES</td>\n",
              "      <td>MANAGER</td>\n",
              "    </tr>\n",
              "    <tr>\n",
              "      <th>8</th>\n",
              "      <td>BLAKE</td>\n",
              "      <td>MANAGER</td>\n",
              "    </tr>\n",
              "    <tr>\n",
              "      <th>9</th>\n",
              "      <td>CLARK</td>\n",
              "      <td>MANAGER</td>\n",
              "    </tr>\n",
              "    <tr>\n",
              "      <th>10</th>\n",
              "      <td>ALLEN</td>\n",
              "      <td>SALESMAN</td>\n",
              "    </tr>\n",
              "    <tr>\n",
              "      <th>11</th>\n",
              "      <td>WARD</td>\n",
              "      <td>SALESMAN</td>\n",
              "    </tr>\n",
              "    <tr>\n",
              "      <th>12</th>\n",
              "      <td>MARTIN</td>\n",
              "      <td>SALESMAN</td>\n",
              "    </tr>\n",
              "    <tr>\n",
              "      <th>13</th>\n",
              "      <td>TURNER</td>\n",
              "      <td>SALESMAN</td>\n",
              "    </tr>\n",
              "  </tbody>\n",
              "</table>\n",
              "</div>"
            ],
            "text/plain": [
              "     ENAME        JOB\n",
              "0    SCOTT    ANALYST\n",
              "1     FORD    ANALYST\n",
              "2    SMITH      CLERK\n",
              "3    ADAMS      CLERK\n",
              "4    JAMES      CLERK\n",
              "5   MILLER      CLERK\n",
              "6     KING  PRESIDENT\n",
              "7    JONES    MANAGER\n",
              "8    BLAKE    MANAGER\n",
              "9    CLARK    MANAGER\n",
              "10   ALLEN   SALESMAN\n",
              "11    WARD   SALESMAN\n",
              "12  MARTIN   SALESMAN\n",
              "13  TURNER   SALESMAN"
            ]
          },
          "metadata": {
            "tags": []
          },
          "execution_count": 143
        }
      ]
    },
    {
      "cell_type": "markdown",
      "metadata": {
        "id": "EFzAv34kfTjo"
      },
      "source": [
        "- #### Sorting Mixed Alphanumeric Data"
      ]
    },
    {
      "cell_type": "code",
      "metadata": {
        "colab": {
          "base_uri": "https://localhost:8080/",
          "height": 31
        },
        "id": "ZLZynWCpfY2Z",
        "outputId": "0f5fdd4c-742a-4a3f-b356-49819512fda0"
      },
      "source": [
        "# Change the view if you get a error.\n",
        "c.execute('''\n",
        "create view B as select ename||' '||deptno as data from emp;\n",
        "''')\n",
        "pd.DataFrame(c.fetchall())"
      ],
      "execution_count": 145,
      "outputs": [
        {
          "output_type": "execute_result",
          "data": {
            "text/html": [
              "<div>\n",
              "<style scoped>\n",
              "    .dataframe tbody tr th:only-of-type {\n",
              "        vertical-align: middle;\n",
              "    }\n",
              "\n",
              "    .dataframe tbody tr th {\n",
              "        vertical-align: top;\n",
              "    }\n",
              "\n",
              "    .dataframe thead th {\n",
              "        text-align: right;\n",
              "    }\n",
              "</style>\n",
              "<table border=\"1\" class=\"dataframe\">\n",
              "  <thead>\n",
              "    <tr style=\"text-align: right;\">\n",
              "      <th></th>\n",
              "    </tr>\n",
              "  </thead>\n",
              "  <tbody>\n",
              "  </tbody>\n",
              "</table>\n",
              "</div>"
            ],
            "text/plain": [
              "Empty DataFrame\n",
              "Columns: []\n",
              "Index: []"
            ]
          },
          "metadata": {
            "tags": []
          },
          "execution_count": 145
        }
      ]
    },
    {
      "cell_type": "code",
      "metadata": {
        "colab": {
          "base_uri": "https://localhost:8080/",
          "height": 483
        },
        "id": "QW4KopnYfxyF",
        "outputId": "b379e157-e212-407e-99fb-47919c09c76a"
      },
      "source": [
        "# Fetch the view\n",
        "c.execute('''\n",
        "select * from B;\n",
        "''')\n",
        "pd.DataFrame(c.fetchall())"
      ],
      "execution_count": 146,
      "outputs": [
        {
          "output_type": "execute_result",
          "data": {
            "text/html": [
              "<div>\n",
              "<style scoped>\n",
              "    .dataframe tbody tr th:only-of-type {\n",
              "        vertical-align: middle;\n",
              "    }\n",
              "\n",
              "    .dataframe tbody tr th {\n",
              "        vertical-align: top;\n",
              "    }\n",
              "\n",
              "    .dataframe thead th {\n",
              "        text-align: right;\n",
              "    }\n",
              "</style>\n",
              "<table border=\"1\" class=\"dataframe\">\n",
              "  <thead>\n",
              "    <tr style=\"text-align: right;\">\n",
              "      <th></th>\n",
              "      <th>0</th>\n",
              "    </tr>\n",
              "  </thead>\n",
              "  <tbody>\n",
              "    <tr>\n",
              "      <th>0</th>\n",
              "      <td>SMITH 20</td>\n",
              "    </tr>\n",
              "    <tr>\n",
              "      <th>1</th>\n",
              "      <td>ALLEN 30</td>\n",
              "    </tr>\n",
              "    <tr>\n",
              "      <th>2</th>\n",
              "      <td>WARD 30</td>\n",
              "    </tr>\n",
              "    <tr>\n",
              "      <th>3</th>\n",
              "      <td>JONES 20</td>\n",
              "    </tr>\n",
              "    <tr>\n",
              "      <th>4</th>\n",
              "      <td>MARTIN 30</td>\n",
              "    </tr>\n",
              "    <tr>\n",
              "      <th>5</th>\n",
              "      <td>BLAKE 30</td>\n",
              "    </tr>\n",
              "    <tr>\n",
              "      <th>6</th>\n",
              "      <td>CLARK 10</td>\n",
              "    </tr>\n",
              "    <tr>\n",
              "      <th>7</th>\n",
              "      <td>SCOTT 20</td>\n",
              "    </tr>\n",
              "    <tr>\n",
              "      <th>8</th>\n",
              "      <td>KING 10</td>\n",
              "    </tr>\n",
              "    <tr>\n",
              "      <th>9</th>\n",
              "      <td>TURNER 30</td>\n",
              "    </tr>\n",
              "    <tr>\n",
              "      <th>10</th>\n",
              "      <td>ADAMS 20</td>\n",
              "    </tr>\n",
              "    <tr>\n",
              "      <th>11</th>\n",
              "      <td>JAMES 30</td>\n",
              "    </tr>\n",
              "    <tr>\n",
              "      <th>12</th>\n",
              "      <td>FORD 20</td>\n",
              "    </tr>\n",
              "    <tr>\n",
              "      <th>13</th>\n",
              "      <td>MILLER 10</td>\n",
              "    </tr>\n",
              "  </tbody>\n",
              "</table>\n",
              "</div>"
            ],
            "text/plain": [
              "            0\n",
              "0    SMITH 20\n",
              "1    ALLEN 30\n",
              "2     WARD 30\n",
              "3    JONES 20\n",
              "4   MARTIN 30\n",
              "5    BLAKE 30\n",
              "6    CLARK 10\n",
              "7    SCOTT 20\n",
              "8     KING 10\n",
              "9   TURNER 30\n",
              "10   ADAMS 20\n",
              "11   JAMES 30\n",
              "12    FORD 20\n",
              "13  MILLER 10"
            ]
          },
          "metadata": {
            "tags": []
          },
          "execution_count": 146
        }
      ]
    },
    {
      "cell_type": "markdown",
      "metadata": {
        "id": "YXxPbkI9hExl"
      },
      "source": [
        "- For Oracle, SQL Server, and PostgreSQL\n",
        "- Translate is not available in SQLite.\n",
        "- Translate and REPLACE functions remove either the numbers or characters from each row.\n",
        "\n",
        "``` c.execute('''\n",
        "select data\n",
        "    from D\n",
        "    order by replace(data, replace(translate(data, '0123456789', '##########'), '#', ''), '');\n",
        "''')\n",
        "colnames = c.description\n",
        "display_query_data(colnames) ```"
      ]
    },
    {
      "cell_type": "code",
      "metadata": {
        "colab": {
          "base_uri": "https://localhost:8080/",
          "height": 483
        },
        "id": "Yc1D3yfzh9i_",
        "outputId": "8437ecc1-3e8e-4e05-dfdb-50b9c0e9166f"
      },
      "source": [
        "c.execute('''\n",
        "select ename||' '||deptno as data\n",
        "    from emp\n",
        "    order by replace(data,'##########','0123456789');\n",
        "  ''')\n",
        "colnames = c.description\n",
        "display_query_data(colnames)"
      ],
      "execution_count": 147,
      "outputs": [
        {
          "output_type": "execute_result",
          "data": {
            "text/html": [
              "<div>\n",
              "<style scoped>\n",
              "    .dataframe tbody tr th:only-of-type {\n",
              "        vertical-align: middle;\n",
              "    }\n",
              "\n",
              "    .dataframe tbody tr th {\n",
              "        vertical-align: top;\n",
              "    }\n",
              "\n",
              "    .dataframe thead th {\n",
              "        text-align: right;\n",
              "    }\n",
              "</style>\n",
              "<table border=\"1\" class=\"dataframe\">\n",
              "  <thead>\n",
              "    <tr style=\"text-align: right;\">\n",
              "      <th></th>\n",
              "      <th>data</th>\n",
              "    </tr>\n",
              "  </thead>\n",
              "  <tbody>\n",
              "    <tr>\n",
              "      <th>0</th>\n",
              "      <td>ADAMS 20</td>\n",
              "    </tr>\n",
              "    <tr>\n",
              "      <th>1</th>\n",
              "      <td>ALLEN 30</td>\n",
              "    </tr>\n",
              "    <tr>\n",
              "      <th>2</th>\n",
              "      <td>BLAKE 30</td>\n",
              "    </tr>\n",
              "    <tr>\n",
              "      <th>3</th>\n",
              "      <td>CLARK 10</td>\n",
              "    </tr>\n",
              "    <tr>\n",
              "      <th>4</th>\n",
              "      <td>FORD 20</td>\n",
              "    </tr>\n",
              "    <tr>\n",
              "      <th>5</th>\n",
              "      <td>JAMES 30</td>\n",
              "    </tr>\n",
              "    <tr>\n",
              "      <th>6</th>\n",
              "      <td>JONES 20</td>\n",
              "    </tr>\n",
              "    <tr>\n",
              "      <th>7</th>\n",
              "      <td>KING 10</td>\n",
              "    </tr>\n",
              "    <tr>\n",
              "      <th>8</th>\n",
              "      <td>MARTIN 30</td>\n",
              "    </tr>\n",
              "    <tr>\n",
              "      <th>9</th>\n",
              "      <td>MILLER 10</td>\n",
              "    </tr>\n",
              "    <tr>\n",
              "      <th>10</th>\n",
              "      <td>SCOTT 20</td>\n",
              "    </tr>\n",
              "    <tr>\n",
              "      <th>11</th>\n",
              "      <td>SMITH 20</td>\n",
              "    </tr>\n",
              "    <tr>\n",
              "      <th>12</th>\n",
              "      <td>TURNER 30</td>\n",
              "    </tr>\n",
              "    <tr>\n",
              "      <th>13</th>\n",
              "      <td>WARD 30</td>\n",
              "    </tr>\n",
              "  </tbody>\n",
              "</table>\n",
              "</div>"
            ],
            "text/plain": [
              "         data\n",
              "0    ADAMS 20\n",
              "1    ALLEN 30\n",
              "2    BLAKE 30\n",
              "3    CLARK 10\n",
              "4     FORD 20\n",
              "5    JAMES 30\n",
              "6    JONES 20\n",
              "7     KING 10\n",
              "8   MARTIN 30\n",
              "9   MILLER 10\n",
              "10   SCOTT 20\n",
              "11   SMITH 20\n",
              "12  TURNER 30\n",
              "13    WARD 30"
            ]
          },
          "metadata": {
            "tags": []
          },
          "execution_count": 147
        }
      ]
    },
    {
      "cell_type": "markdown",
      "metadata": {
        "id": "j981orFViSDn"
      },
      "source": [
        "- Dealing with Nulls when sorting"
      ]
    },
    {
      "cell_type": "code",
      "metadata": {
        "colab": {
          "base_uri": "https://localhost:8080/",
          "height": 483
        },
        "id": "ay6kxM07iV8t",
        "outputId": "3948cba9-d0c2-4dcd-b7a1-768cf5064bbf"
      },
      "source": [
        "# This can be achieved using CASE\n",
        "c.execute('''\n",
        "select ename,sal,comm\n",
        "    from (\n",
        "  select ename,sal,comm,\n",
        "         case when comm is null then 0 else 1 end as is_null\n",
        "    from emp\n",
        "         ) x\n",
        " order by is_null,comm;\n",
        "  ''')\n",
        "colnames = c.description\n",
        "display_query_data(colnames)"
      ],
      "execution_count": 148,
      "outputs": [
        {
          "output_type": "execute_result",
          "data": {
            "text/html": [
              "<div>\n",
              "<style scoped>\n",
              "    .dataframe tbody tr th:only-of-type {\n",
              "        vertical-align: middle;\n",
              "    }\n",
              "\n",
              "    .dataframe tbody tr th {\n",
              "        vertical-align: top;\n",
              "    }\n",
              "\n",
              "    .dataframe thead th {\n",
              "        text-align: right;\n",
              "    }\n",
              "</style>\n",
              "<table border=\"1\" class=\"dataframe\">\n",
              "  <thead>\n",
              "    <tr style=\"text-align: right;\">\n",
              "      <th></th>\n",
              "      <th>ename</th>\n",
              "      <th>sal</th>\n",
              "      <th>comm</th>\n",
              "    </tr>\n",
              "  </thead>\n",
              "  <tbody>\n",
              "    <tr>\n",
              "      <th>0</th>\n",
              "      <td>SMITH</td>\n",
              "      <td>800</td>\n",
              "      <td>NaN</td>\n",
              "    </tr>\n",
              "    <tr>\n",
              "      <th>1</th>\n",
              "      <td>JONES</td>\n",
              "      <td>2975</td>\n",
              "      <td>NaN</td>\n",
              "    </tr>\n",
              "    <tr>\n",
              "      <th>2</th>\n",
              "      <td>BLAKE</td>\n",
              "      <td>2850</td>\n",
              "      <td>NaN</td>\n",
              "    </tr>\n",
              "    <tr>\n",
              "      <th>3</th>\n",
              "      <td>CLARK</td>\n",
              "      <td>2450</td>\n",
              "      <td>NaN</td>\n",
              "    </tr>\n",
              "    <tr>\n",
              "      <th>4</th>\n",
              "      <td>SCOTT</td>\n",
              "      <td>3000</td>\n",
              "      <td>NaN</td>\n",
              "    </tr>\n",
              "    <tr>\n",
              "      <th>5</th>\n",
              "      <td>KING</td>\n",
              "      <td>5000</td>\n",
              "      <td>NaN</td>\n",
              "    </tr>\n",
              "    <tr>\n",
              "      <th>6</th>\n",
              "      <td>ADAMS</td>\n",
              "      <td>1100</td>\n",
              "      <td>NaN</td>\n",
              "    </tr>\n",
              "    <tr>\n",
              "      <th>7</th>\n",
              "      <td>JAMES</td>\n",
              "      <td>950</td>\n",
              "      <td>NaN</td>\n",
              "    </tr>\n",
              "    <tr>\n",
              "      <th>8</th>\n",
              "      <td>FORD</td>\n",
              "      <td>3000</td>\n",
              "      <td>NaN</td>\n",
              "    </tr>\n",
              "    <tr>\n",
              "      <th>9</th>\n",
              "      <td>MILLER</td>\n",
              "      <td>1300</td>\n",
              "      <td>NaN</td>\n",
              "    </tr>\n",
              "    <tr>\n",
              "      <th>10</th>\n",
              "      <td>TURNER</td>\n",
              "      <td>1500</td>\n",
              "      <td>0.0</td>\n",
              "    </tr>\n",
              "    <tr>\n",
              "      <th>11</th>\n",
              "      <td>ALLEN</td>\n",
              "      <td>1600</td>\n",
              "      <td>300.0</td>\n",
              "    </tr>\n",
              "    <tr>\n",
              "      <th>12</th>\n",
              "      <td>WARD</td>\n",
              "      <td>1250</td>\n",
              "      <td>500.0</td>\n",
              "    </tr>\n",
              "    <tr>\n",
              "      <th>13</th>\n",
              "      <td>MARTIN</td>\n",
              "      <td>1250</td>\n",
              "      <td>1400.0</td>\n",
              "    </tr>\n",
              "  </tbody>\n",
              "</table>\n",
              "</div>"
            ],
            "text/plain": [
              "     ename   sal    comm\n",
              "0    SMITH   800     NaN\n",
              "1    JONES  2975     NaN\n",
              "2    BLAKE  2850     NaN\n",
              "3    CLARK  2450     NaN\n",
              "4    SCOTT  3000     NaN\n",
              "5     KING  5000     NaN\n",
              "6    ADAMS  1100     NaN\n",
              "7    JAMES   950     NaN\n",
              "8     FORD  3000     NaN\n",
              "9   MILLER  1300     NaN\n",
              "10  TURNER  1500     0.0\n",
              "11   ALLEN  1600   300.0\n",
              "12    WARD  1250   500.0\n",
              "13  MARTIN  1250  1400.0"
            ]
          },
          "metadata": {
            "tags": []
          },
          "execution_count": 148
        }
      ]
    },
    {
      "cell_type": "markdown",
      "metadata": {
        "id": "vGbbvWESiqFB"
      },
      "source": [
        "- Sorting based on conditional logic"
      ]
    },
    {
      "cell_type": "code",
      "metadata": {
        "colab": {
          "base_uri": "https://localhost:8080/",
          "height": 483
        },
        "id": "sm9OzxNnitjW",
        "outputId": "8fc4525a-57b4-44fe-a828-098f9683f335"
      },
      "source": [
        "# Sorting on a Data-Dependent Key\n",
        "# To sort based on a conditional logic, For Ex: If JOB is SALESMAN, you want to sort on COMM; otherwise, you want to\n",
        "# sort on SAL\n",
        "c.execute('''\n",
        "select ename,sal,comm,\n",
        "       case when comm is null then 0 else 1 end as is_null\n",
        "  from emp;\n",
        "  ''')\n",
        "colnames = c.description\n",
        "display_query_data(colnames)"
      ],
      "execution_count": 149,
      "outputs": [
        {
          "output_type": "execute_result",
          "data": {
            "text/html": [
              "<div>\n",
              "<style scoped>\n",
              "    .dataframe tbody tr th:only-of-type {\n",
              "        vertical-align: middle;\n",
              "    }\n",
              "\n",
              "    .dataframe tbody tr th {\n",
              "        vertical-align: top;\n",
              "    }\n",
              "\n",
              "    .dataframe thead th {\n",
              "        text-align: right;\n",
              "    }\n",
              "</style>\n",
              "<table border=\"1\" class=\"dataframe\">\n",
              "  <thead>\n",
              "    <tr style=\"text-align: right;\">\n",
              "      <th></th>\n",
              "      <th>ENAME</th>\n",
              "      <th>SAL</th>\n",
              "      <th>COMM</th>\n",
              "      <th>is_null</th>\n",
              "    </tr>\n",
              "  </thead>\n",
              "  <tbody>\n",
              "    <tr>\n",
              "      <th>0</th>\n",
              "      <td>SMITH</td>\n",
              "      <td>800</td>\n",
              "      <td>NaN</td>\n",
              "      <td>0</td>\n",
              "    </tr>\n",
              "    <tr>\n",
              "      <th>1</th>\n",
              "      <td>ALLEN</td>\n",
              "      <td>1600</td>\n",
              "      <td>300.0</td>\n",
              "      <td>1</td>\n",
              "    </tr>\n",
              "    <tr>\n",
              "      <th>2</th>\n",
              "      <td>WARD</td>\n",
              "      <td>1250</td>\n",
              "      <td>500.0</td>\n",
              "      <td>1</td>\n",
              "    </tr>\n",
              "    <tr>\n",
              "      <th>3</th>\n",
              "      <td>JONES</td>\n",
              "      <td>2975</td>\n",
              "      <td>NaN</td>\n",
              "      <td>0</td>\n",
              "    </tr>\n",
              "    <tr>\n",
              "      <th>4</th>\n",
              "      <td>MARTIN</td>\n",
              "      <td>1250</td>\n",
              "      <td>1400.0</td>\n",
              "      <td>1</td>\n",
              "    </tr>\n",
              "    <tr>\n",
              "      <th>5</th>\n",
              "      <td>BLAKE</td>\n",
              "      <td>2850</td>\n",
              "      <td>NaN</td>\n",
              "      <td>0</td>\n",
              "    </tr>\n",
              "    <tr>\n",
              "      <th>6</th>\n",
              "      <td>CLARK</td>\n",
              "      <td>2450</td>\n",
              "      <td>NaN</td>\n",
              "      <td>0</td>\n",
              "    </tr>\n",
              "    <tr>\n",
              "      <th>7</th>\n",
              "      <td>SCOTT</td>\n",
              "      <td>3000</td>\n",
              "      <td>NaN</td>\n",
              "      <td>0</td>\n",
              "    </tr>\n",
              "    <tr>\n",
              "      <th>8</th>\n",
              "      <td>KING</td>\n",
              "      <td>5000</td>\n",
              "      <td>NaN</td>\n",
              "      <td>0</td>\n",
              "    </tr>\n",
              "    <tr>\n",
              "      <th>9</th>\n",
              "      <td>TURNER</td>\n",
              "      <td>1500</td>\n",
              "      <td>0.0</td>\n",
              "      <td>1</td>\n",
              "    </tr>\n",
              "    <tr>\n",
              "      <th>10</th>\n",
              "      <td>ADAMS</td>\n",
              "      <td>1100</td>\n",
              "      <td>NaN</td>\n",
              "      <td>0</td>\n",
              "    </tr>\n",
              "    <tr>\n",
              "      <th>11</th>\n",
              "      <td>JAMES</td>\n",
              "      <td>950</td>\n",
              "      <td>NaN</td>\n",
              "      <td>0</td>\n",
              "    </tr>\n",
              "    <tr>\n",
              "      <th>12</th>\n",
              "      <td>FORD</td>\n",
              "      <td>3000</td>\n",
              "      <td>NaN</td>\n",
              "      <td>0</td>\n",
              "    </tr>\n",
              "    <tr>\n",
              "      <th>13</th>\n",
              "      <td>MILLER</td>\n",
              "      <td>1300</td>\n",
              "      <td>NaN</td>\n",
              "      <td>0</td>\n",
              "    </tr>\n",
              "  </tbody>\n",
              "</table>\n",
              "</div>"
            ],
            "text/plain": [
              "     ENAME   SAL    COMM  is_null\n",
              "0    SMITH   800     NaN        0\n",
              "1    ALLEN  1600   300.0        1\n",
              "2     WARD  1250   500.0        1\n",
              "3    JONES  2975     NaN        0\n",
              "4   MARTIN  1250  1400.0        1\n",
              "5    BLAKE  2850     NaN        0\n",
              "6    CLARK  2450     NaN        0\n",
              "7    SCOTT  3000     NaN        0\n",
              "8     KING  5000     NaN        0\n",
              "9   TURNER  1500     0.0        1\n",
              "10   ADAMS  1100     NaN        0\n",
              "11   JAMES   950     NaN        0\n",
              "12    FORD  3000     NaN        0\n",
              "13  MILLER  1300     NaN        0"
            ]
          },
          "metadata": {
            "tags": []
          },
          "execution_count": 149
        }
      ]
    },
    {
      "cell_type": "code",
      "metadata": {
        "colab": {
          "base_uri": "https://localhost:8080/"
        },
        "id": "QBpjemxpD5qJ",
        "outputId": "7a48881e-ec2b-4b62-9ccb-6851cfc3b98a"
      },
      "source": [
        "conn.close"
      ],
      "execution_count": 150,
      "outputs": [
        {
          "output_type": "execute_result",
          "data": {
            "text/plain": [
              "<function Connection.close>"
            ]
          },
          "metadata": {
            "tags": []
          },
          "execution_count": 150
        }
      ]
    },
    {
      "cell_type": "markdown",
      "metadata": {
        "id": "gh81Utsgi-0g"
      },
      "source": [
        "### Thank you"
      ]
    }
  ]
}