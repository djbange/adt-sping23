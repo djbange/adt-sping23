{
  "cells": [
    {
      "cell_type": "markdown",
      "metadata": {
        "id": "BUlcRqPDgOnC"
      },
      "source": [
        "# Homework 1\n",
        "\n",
        "- D-532 Spring 23\n",
        "- Dipak Bange"
      ]
    },
    {
      "cell_type": "markdown",
      "metadata": {
        "id": "tCx2sGX1gOnF"
      },
      "source": [
        "## Part 1 Import tables - 25pts"
      ]
    },
    {
      "cell_type": "markdown",
      "metadata": {
        "id": "qyNBCItAgOnF"
      },
      "source": [
        "Step 1. Create db named income"
      ]
    },
    {
      "cell_type": "code",
      "execution_count": 1,
      "metadata": {
        "id": "CLF02TDzgOnG"
      },
      "outputs": [],
      "source": [
        "import sqlite3\n",
        "import pandas as pd\n",
        "\n",
        "conn = sqlite3.connect('income.db')  \n",
        "cur = conn.cursor()\n"
      ]
    },
    {
      "cell_type": "markdown",
      "metadata": {
        "id": "EwUC50PmgOnH"
      },
      "source": [
        "Step 2. Import ``income.csv``"
      ]
    },
    {
      "cell_type": "code",
      "execution_count": 2,
      "metadata": {
        "id": "7PQdWcbQgOnH"
      },
      "outputs": [],
      "source": [
        "read_inc = pd.read_csv(r'income.csv')"
      ]
    },
    {
      "cell_type": "code",
      "execution_count": 3,
      "metadata": {
        "id": "RX0L8gSYgOnH"
      },
      "outputs": [],
      "source": [
        "read_inc.to_sql('income', conn, if_exists='append', index = False)"
      ]
    },
    {
      "cell_type": "markdown",
      "metadata": {
        "id": "O6AO4XJ1gOnI"
      },
      "source": [
        "Step 3. Print Column names. Note - cursor with query execution has been created. Add code to extract column names.\n",
        "- All_weekly = average weekly income\n",
        "- M_weekly = Male employees weekly income\n",
        "- F_weekly = Female employees weekly income"
      ]
    },
    {
      "cell_type": "code",
      "execution_count": 7,
      "metadata": {
        "id": "Ilzw6JrAgOnJ",
        "outputId": "573c1297-89d2-4d4d-8597-c3f67ccd4a77",
        "colab": {
          "base_uri": "https://localhost:8080/"
        }
      },
      "outputs": [
        {
          "output_type": "stream",
          "name": "stdout",
          "text": [
            "Occupation\n",
            "Industry\n",
            "All_workers\n",
            "All_weekly\n",
            "M_workers\n",
            "M_weekly\n",
            "F_workers\n",
            "F_weekly\n"
          ]
        }
      ],
      "source": [
        "cur.execute(''' select * from income ''')\n",
        "column_list = []\n",
        "col_names = cur.description\n",
        "for row in col_names:\n",
        "    print(row[0])\n",
        "    column_list.append(row[0])"
      ]
    },
    {
      "cell_type": "markdown",
      "metadata": {
        "id": "JGWM_lwCgOnJ"
      },
      "source": [
        "Step 4. Select records where weeklly income (All_weekly) is greater than 2000"
      ]
    },
    {
      "cell_type": "code",
      "execution_count": 8,
      "metadata": {
        "id": "rGBOnm45gOnJ",
        "outputId": "ad2b6738-cfcc-4ca7-d773-d5f60743847a",
        "colab": {
          "base_uri": "https://localhost:8080/"
        }
      },
      "outputs": [
        {
          "output_type": "stream",
          "name": "stdout",
          "text": [
            "         Occupation    Industry  All_workers  All_weekly  M_workers  M_weekly  \\\n",
            "0  Chief executives  Management         1046        2041        763      2251   \n",
            "\n",
            "   F_workers  F_weekly  \n",
            "0        283      1836  \n"
          ]
        }
      ],
      "source": [
        "cur.execute('''\n",
        "select * from income\n",
        "where All_weekly > 2000\n",
        "''')\n",
        "\n",
        "df = pd.DataFrame(cur.fetchall(), columns=column_list)\n",
        "print(df)"
      ]
    },
    {
      "cell_type": "markdown",
      "metadata": {
        "id": "YSjFFevQgOnK"
      },
      "source": [
        "Step 5. Select occupations and average weekly income in Business industry  and where Female employees weekly income is greater than male employees weekly income. Convert results into dataframe and name columns as Job and Income."
      ]
    },
    {
      "cell_type": "code",
      "execution_count": 13,
      "metadata": {
        "id": "LxzQGVsdgOnK",
        "outputId": "695491be-850e-48de-f361-440a21f34376",
        "colab": {
          "base_uri": "https://localhost:8080/"
        }
      },
      "outputs": [
        {
          "output_type": "stream",
          "name": "stdout",
          "text": [
            "Wholesale and retail buyers, except farm products\n"
          ]
        }
      ],
      "source": [
        "cur.execute('''\n",
        "select Occupation as job, AVG(All_weekly) as income  from income\n",
        "where M_weekly < F_weekly and Industry = 'Business'\n",
        "group by Occupation\n",
        "''')\n",
        "\n",
        "df = pd.DataFrame(cur.fetchall(), columns=['JOB', 'INCOME'])\n",
        "display(df)"
      ]
    },
    {
      "cell_type": "markdown",
      "metadata": {
        "id": "5lY-MJnZgOnK"
      },
      "source": [
        "Step 6. You need to print the list of industries used in your database. Like you would use set() in python, you will use ```distinct``` with your column name to remove duplicate names. Print the results.\n",
        " "
      ]
    },
    {
      "cell_type": "code",
      "execution_count": 16,
      "metadata": {
        "id": "y4OuiN9LgOnK",
        "outputId": "a4e59c4d-88a6-4d64-c983-f2355e12a236",
        "colab": {
          "base_uri": "https://localhost:8080/"
        }
      },
      "outputs": [
        {
          "output_type": "stream",
          "name": "stdout",
          "text": [
            "Management\n",
            "Healthcare Professional\n",
            "Legal\n",
            "Engineering\n",
            "Computational\n",
            "Business\n",
            "Arts\n",
            "Science\n",
            "Education\n",
            "Protective Service\n",
            "Social Service\n",
            "Sales\n",
            "Office\n",
            "Service\n",
            "Transportation\n",
            "Production\n",
            "Groundskeeping\n",
            "Culinary\n",
            "Healthcare Support\n",
            "Agricultural\n"
          ]
        }
      ],
      "source": [
        "rows = cur.execute('''\n",
        "select distinct Industry from income\n",
        "''')\n",
        "for row in rows:\n",
        "  print(row[0])"
      ]
    },
    {
      "cell_type": "markdown",
      "metadata": {
        "id": "pbQU1rUjgOnL"
      },
      "source": [
        "Step 7. Close cursor and connection"
      ]
    },
    {
      "cell_type": "code",
      "execution_count": 17,
      "metadata": {
        "id": "pE123NuYgOnL"
      },
      "outputs": [],
      "source": [
        "cur.close()"
      ]
    },
    {
      "cell_type": "markdown",
      "metadata": {
        "id": "xoFQMa-vgOnL"
      },
      "source": [
        "## Part 2. Database Design - 25pts"
      ]
    },
    {
      "cell_type": "markdown",
      "metadata": {
        "id": "Ad5s9h9dgOnL"
      },
      "source": [
        "Q1. If you design a database schema for income data, which attribute(s) would you choose as a primary key? And why?"
      ]
    },
    {
      "cell_type": "markdown",
      "metadata": {
        "id": "aeAvj3NsgOnM"
      },
      "source": [
        "Answer: I would choose columns Occupation and Industry as a primary key as they are unique in the data."
      ]
    },
    {
      "cell_type": "markdown",
      "metadata": {
        "id": "3loSOVWtgOnM"
      },
      "source": [
        "Q2. You decided to redisign income database and split into several tables. What changes would you implement?"
      ]
    },
    {
      "cell_type": "markdown",
      "metadata": {
        "id": "O1Hwb9WngOnM"
      },
      "source": [
        "Answer: \n",
        "1.   All data is incorporated in one table so we will have to split the data into different tables.\n",
        "2. Create new tables for weekly, monthly and all incomes i.e 3 separate tables.\n",
        "3. Create a new primary key for all tables so that we can have foreign keys to other tables if required and we can uniquely idetify a row."
      ]
    },
    {
      "cell_type": "markdown",
      "metadata": {
        "id": "1rzeQsR1gOnM"
      },
      "source": [
        "Note for submission: convert to PDF and submit"
      ]
    },
    {
      "cell_type": "code",
      "execution_count": null,
      "metadata": {
        "id": "p2qJp3v6gOnN"
      },
      "outputs": [],
      "source": []
    }
  ],
  "metadata": {
    "kernelspec": {
      "display_name": "Python 3 (ipykernel)",
      "language": "python",
      "name": "python3"
    },
    "language_info": {
      "codemirror_mode": {
        "name": "ipython",
        "version": 3
      },
      "file_extension": ".py",
      "mimetype": "text/x-python",
      "name": "python",
      "nbconvert_exporter": "python",
      "pygments_lexer": "ipython3",
      "version": "3.9.12"
    },
    "colab": {
      "provenance": []
    }
  },
  "nbformat": 4,
  "nbformat_minor": 0
}